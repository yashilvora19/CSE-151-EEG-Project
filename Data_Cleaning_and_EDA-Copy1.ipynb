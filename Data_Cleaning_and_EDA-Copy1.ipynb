{
 "cells": [
  {
   "cell_type": "markdown",
   "metadata": {},
   "source": [
    "# Predicting Severity of Road Accidents\n",
    "\n",
    "Group Members:\n",
    "\n",
    "- Arnav Kamdar\n",
    "- Ishika Agrawal\n",
    "- Jennifer Hung\n",
    "- Mishka Jethwani\n",
    "- Yashil Vora\n",
    "\n",
    "One of the leading causes of non natural death is road accidents. There may be several contributing factors that lead to vehicle casualties, including traffic, weather, road conditions etc. We wanted to predict the severity of road accidents ranging from Slight, Serious, to Fatal using supervised models such as Logistic Regression, Decision Trees etc. Attributes that may be used to predict the data include the road conditions, the weather conditions, vehicle types, or what kind of area they’re in. \n",
    " \n",
    "Our data is mainly focused on locations in the UK, so while it may not necessarily apply similarly in the US, we could still use this model to run on US datasets and see the results. It is a dataset with 14 columns and over 600k observations. Here are the different features that we will be looking at:\n",
    "\n",
    "- Index\n",
    "- Accident_Severity\n",
    "- Accident Date\n",
    "- Latitude\n",
    "- Light_Conditions\n",
    "- District Area\n",
    "- Longitude\n",
    "- Number_of_Casualties\n",
    "- Number_of_Vehicles\n",
    "- Road_Surface_Conditions\n",
    "- Road_Type\n",
    "- Urban_or_Rural_Area\n",
    "- Weather_Conditions\n",
    "- Vehicle_Type\n",
    "\n",
    "Ethical concerns include if our stakeholders were vehicle companies, would they have reduced sales if, say, trucks were more likely to lead to severe accidents? However, by figuring out what would predict the severity of road accidents, we can also prevent harm by noting the features that largely impact the severity."
   ]
  },
  {
   "cell_type": "code",
   "execution_count": 4,
   "metadata": {},
   "outputs": [
    {
     "name": "stdout",
     "output_type": "stream",
     "text": [
      "Collecting seaborn\n",
      "  Downloading seaborn-0.13.2-py3-none-any.whl.metadata (5.4 kB)\n",
      "Requirement already satisfied: numpy!=1.24.0,>=1.20 in /Library/Frameworks/Python.framework/Versions/3.8/lib/python3.8/site-packages (from seaborn) (1.24.4)\n",
      "Requirement already satisfied: pandas>=1.2 in /Library/Frameworks/Python.framework/Versions/3.8/lib/python3.8/site-packages (from seaborn) (2.0.3)\n",
      "Requirement already satisfied: matplotlib!=3.6.1,>=3.4 in /Library/Frameworks/Python.framework/Versions/3.8/lib/python3.8/site-packages (from seaborn) (3.7.3)\n",
      "Requirement already satisfied: contourpy>=1.0.1 in /Library/Frameworks/Python.framework/Versions/3.8/lib/python3.8/site-packages (from matplotlib!=3.6.1,>=3.4->seaborn) (1.1.0)\n",
      "Requirement already satisfied: cycler>=0.10 in /Library/Frameworks/Python.framework/Versions/3.8/lib/python3.8/site-packages (from matplotlib!=3.6.1,>=3.4->seaborn) (0.11.0)\n",
      "Requirement already satisfied: fonttools>=4.22.0 in /Library/Frameworks/Python.framework/Versions/3.8/lib/python3.8/site-packages (from matplotlib!=3.6.1,>=3.4->seaborn) (4.42.1)\n",
      "Requirement already satisfied: kiwisolver>=1.0.1 in /Library/Frameworks/Python.framework/Versions/3.8/lib/python3.8/site-packages (from matplotlib!=3.6.1,>=3.4->seaborn) (1.4.5)\n",
      "Requirement already satisfied: packaging>=20.0 in /Library/Frameworks/Python.framework/Versions/3.8/lib/python3.8/site-packages (from matplotlib!=3.6.1,>=3.4->seaborn) (23.1)\n",
      "Requirement already satisfied: pillow>=6.2.0 in /Library/Frameworks/Python.framework/Versions/3.8/lib/python3.8/site-packages (from matplotlib!=3.6.1,>=3.4->seaborn) (10.0.0)\n",
      "Requirement already satisfied: pyparsing>=2.3.1 in /Library/Frameworks/Python.framework/Versions/3.8/lib/python3.8/site-packages (from matplotlib!=3.6.1,>=3.4->seaborn) (3.1.1)\n",
      "Requirement already satisfied: python-dateutil>=2.7 in /Library/Frameworks/Python.framework/Versions/3.8/lib/python3.8/site-packages (from matplotlib!=3.6.1,>=3.4->seaborn) (2.8.2)\n",
      "Requirement already satisfied: importlib-resources>=3.2.0 in /Library/Frameworks/Python.framework/Versions/3.8/lib/python3.8/site-packages (from matplotlib!=3.6.1,>=3.4->seaborn) (5.12.0)\n",
      "Requirement already satisfied: pytz>=2020.1 in /Library/Frameworks/Python.framework/Versions/3.8/lib/python3.8/site-packages (from pandas>=1.2->seaborn) (2023.3.post1)\n",
      "Requirement already satisfied: tzdata>=2022.1 in /Library/Frameworks/Python.framework/Versions/3.8/lib/python3.8/site-packages (from pandas>=1.2->seaborn) (2023.3)\n",
      "Requirement already satisfied: zipp>=3.1.0 in /Library/Frameworks/Python.framework/Versions/3.8/lib/python3.8/site-packages (from importlib-resources>=3.2.0->matplotlib!=3.6.1,>=3.4->seaborn) (3.15.0)\n",
      "Requirement already satisfied: six>=1.5 in /Library/Frameworks/Python.framework/Versions/3.8/lib/python3.8/site-packages (from python-dateutil>=2.7->matplotlib!=3.6.1,>=3.4->seaborn) (1.16.0)\n",
      "Downloading seaborn-0.13.2-py3-none-any.whl (294 kB)\n",
      "\u001b[2K   \u001b[90m━━━━━━━━━━━━━━━━━━━━━━━━━━━━━━━━━━━━━━━━\u001b[0m \u001b[32m294.9/294.9 kB\u001b[0m \u001b[31m5.9 MB/s\u001b[0m eta \u001b[36m0:00:00\u001b[0mta \u001b[36m0:00:01\u001b[0m\n",
      "\u001b[?25hInstalling collected packages: seaborn\n",
      "Successfully installed seaborn-0.13.2\n",
      "Note: you may need to restart the kernel to use updated packages.\n"
     ]
    }
   ],
   "source": [
    "pip install seaborn"
   ]
  },
  {
   "cell_type": "code",
   "execution_count": 5,
   "metadata": {
    "colab": {
     "base_uri": "https://localhost:8080/"
    },
    "id": "-Nb746rx-jYI",
    "outputId": "6eef489b-1c27-45d3-fc72-16723169f284"
   },
   "outputs": [
    {
     "name": "stdout",
     "output_type": "stream",
     "text": [
      "fatal: destination path 'accident_severity_prediction' already exists and is not an empty directory.\r\n"
     ]
    }
   ],
   "source": [
    "! git clone https://github.com/yashilvoraa19/accident_severity_prediction.git"
   ]
  },
  {
   "cell_type": "code",
   "execution_count": 6,
   "metadata": {
    "id": "tn4qmiBd-niy"
   },
   "outputs": [],
   "source": [
    "# import libraries, other imports are as we go through encoding\n",
    "import pandas as pd\n",
    "import numpy as np\n",
    "import seaborn as sns"
   ]
  },
  {
   "cell_type": "code",
   "execution_count": 7,
   "metadata": {
    "colab": {
     "base_uri": "https://localhost:8080/",
     "height": 411
    },
    "id": "Z2-Hs6vw-tOj",
    "outputId": "e18cf7e8-a8c7-4c78-8495-a4cee524f2cc"
   },
   "outputs": [
    {
     "data": {
      "text/html": [
       "<div>\n",
       "<style scoped>\n",
       "    .dataframe tbody tr th:only-of-type {\n",
       "        vertical-align: middle;\n",
       "    }\n",
       "\n",
       "    .dataframe tbody tr th {\n",
       "        vertical-align: top;\n",
       "    }\n",
       "\n",
       "    .dataframe thead th {\n",
       "        text-align: right;\n",
       "    }\n",
       "</style>\n",
       "<table border=\"1\" class=\"dataframe\">\n",
       "  <thead>\n",
       "    <tr style=\"text-align: right;\">\n",
       "      <th></th>\n",
       "      <th>Index</th>\n",
       "      <th>Accident_Severity</th>\n",
       "      <th>Accident Date</th>\n",
       "      <th>Latitude</th>\n",
       "      <th>Light_Conditions</th>\n",
       "      <th>District Area</th>\n",
       "      <th>Longitude</th>\n",
       "      <th>Number_of_Casualties</th>\n",
       "      <th>Number_of_Vehicles</th>\n",
       "      <th>Road_Surface_Conditions</th>\n",
       "      <th>Road_Type</th>\n",
       "      <th>Urban_or_Rural_Area</th>\n",
       "      <th>Weather_Conditions</th>\n",
       "      <th>Vehicle_Type</th>\n",
       "    </tr>\n",
       "  </thead>\n",
       "  <tbody>\n",
       "    <tr>\n",
       "      <th>0</th>\n",
       "      <td>200701BS64157</td>\n",
       "      <td>Serious</td>\n",
       "      <td>05-06-2019</td>\n",
       "      <td>51.506187</td>\n",
       "      <td>Darkness - lights lit</td>\n",
       "      <td>Kensington and Chelsea</td>\n",
       "      <td>-0.209082</td>\n",
       "      <td>1</td>\n",
       "      <td>2</td>\n",
       "      <td>Dry</td>\n",
       "      <td>Single carriageway</td>\n",
       "      <td>Urban</td>\n",
       "      <td>Fine no high winds</td>\n",
       "      <td>Car</td>\n",
       "    </tr>\n",
       "    <tr>\n",
       "      <th>1</th>\n",
       "      <td>200701BS65737</td>\n",
       "      <td>Serious</td>\n",
       "      <td>02-07-2019</td>\n",
       "      <td>51.495029</td>\n",
       "      <td>Daylight</td>\n",
       "      <td>Kensington and Chelsea</td>\n",
       "      <td>-0.173647</td>\n",
       "      <td>1</td>\n",
       "      <td>2</td>\n",
       "      <td>Wet or damp</td>\n",
       "      <td>Single carriageway</td>\n",
       "      <td>Urban</td>\n",
       "      <td>Raining no high winds</td>\n",
       "      <td>Car</td>\n",
       "    </tr>\n",
       "    <tr>\n",
       "      <th>2</th>\n",
       "      <td>200701BS66127</td>\n",
       "      <td>Serious</td>\n",
       "      <td>26-08-2019</td>\n",
       "      <td>51.517715</td>\n",
       "      <td>Darkness - lighting unknown</td>\n",
       "      <td>Kensington and Chelsea</td>\n",
       "      <td>-0.210215</td>\n",
       "      <td>1</td>\n",
       "      <td>3</td>\n",
       "      <td>Dry</td>\n",
       "      <td>NaN</td>\n",
       "      <td>Urban</td>\n",
       "      <td>NaN</td>\n",
       "      <td>Taxi/Private hire car</td>\n",
       "    </tr>\n",
       "    <tr>\n",
       "      <th>3</th>\n",
       "      <td>200701BS66128</td>\n",
       "      <td>Serious</td>\n",
       "      <td>16-08-2019</td>\n",
       "      <td>51.495478</td>\n",
       "      <td>Daylight</td>\n",
       "      <td>Kensington and Chelsea</td>\n",
       "      <td>-0.202731</td>\n",
       "      <td>1</td>\n",
       "      <td>4</td>\n",
       "      <td>Dry</td>\n",
       "      <td>Single carriageway</td>\n",
       "      <td>Urban</td>\n",
       "      <td>Fine no high winds</td>\n",
       "      <td>Bus or coach (17 or more pass seats)</td>\n",
       "    </tr>\n",
       "    <tr>\n",
       "      <th>4</th>\n",
       "      <td>200701BS66837</td>\n",
       "      <td>Slight</td>\n",
       "      <td>03-09-2019</td>\n",
       "      <td>51.488576</td>\n",
       "      <td>Darkness - lights lit</td>\n",
       "      <td>Kensington and Chelsea</td>\n",
       "      <td>-0.192487</td>\n",
       "      <td>1</td>\n",
       "      <td>2</td>\n",
       "      <td>Dry</td>\n",
       "      <td>NaN</td>\n",
       "      <td>Urban</td>\n",
       "      <td>NaN</td>\n",
       "      <td>Other vehicle</td>\n",
       "    </tr>\n",
       "  </tbody>\n",
       "</table>\n",
       "</div>"
      ],
      "text/plain": [
       "           Index Accident_Severity Accident Date   Latitude  \\\n",
       "0  200701BS64157           Serious    05-06-2019  51.506187   \n",
       "1  200701BS65737           Serious    02-07-2019  51.495029   \n",
       "2  200701BS66127           Serious    26-08-2019  51.517715   \n",
       "3  200701BS66128           Serious    16-08-2019  51.495478   \n",
       "4  200701BS66837            Slight    03-09-2019  51.488576   \n",
       "\n",
       "              Light_Conditions           District Area  Longitude  \\\n",
       "0        Darkness - lights lit  Kensington and Chelsea  -0.209082   \n",
       "1                     Daylight  Kensington and Chelsea  -0.173647   \n",
       "2  Darkness - lighting unknown  Kensington and Chelsea  -0.210215   \n",
       "3                     Daylight  Kensington and Chelsea  -0.202731   \n",
       "4        Darkness - lights lit  Kensington and Chelsea  -0.192487   \n",
       "\n",
       "   Number_of_Casualties  Number_of_Vehicles Road_Surface_Conditions  \\\n",
       "0                     1                   2                     Dry   \n",
       "1                     1                   2             Wet or damp   \n",
       "2                     1                   3                     Dry   \n",
       "3                     1                   4                     Dry   \n",
       "4                     1                   2                     Dry   \n",
       "\n",
       "            Road_Type Urban_or_Rural_Area     Weather_Conditions  \\\n",
       "0  Single carriageway               Urban     Fine no high winds   \n",
       "1  Single carriageway               Urban  Raining no high winds   \n",
       "2                 NaN               Urban                    NaN   \n",
       "3  Single carriageway               Urban     Fine no high winds   \n",
       "4                 NaN               Urban                    NaN   \n",
       "\n",
       "                           Vehicle_Type  \n",
       "0                                   Car  \n",
       "1                                   Car  \n",
       "2                 Taxi/Private hire car  \n",
       "3  Bus or coach (17 or more pass seats)  \n",
       "4                         Other vehicle  "
      ]
     },
     "execution_count": 7,
     "metadata": {},
     "output_type": "execute_result"
    }
   ],
   "source": [
    "accident = pd.read_csv('accident_severity_prediction/accident_data.csv')\n",
    "accident.head()"
   ]
  },
  {
   "cell_type": "code",
   "execution_count": 8,
   "metadata": {},
   "outputs": [
    {
     "data": {
      "text/plain": [
       "Index(['Index', 'Accident_Severity', 'Accident Date', 'Latitude',\n",
       "       'Light_Conditions', 'District Area', 'Longitude',\n",
       "       'Number_of_Casualties', 'Number_of_Vehicles', 'Road_Surface_Conditions',\n",
       "       'Road_Type', 'Urban_or_Rural_Area', 'Weather_Conditions',\n",
       "       'Vehicle_Type'],\n",
       "      dtype='object')"
      ]
     },
     "execution_count": 8,
     "metadata": {},
     "output_type": "execute_result"
    }
   ],
   "source": [
    "accident.columns"
   ]
  },
  {
   "cell_type": "markdown",
   "metadata": {
    "id": "znMUnZgF-yKR"
   },
   "source": [
    "## Data Cleaning\n",
    "\n",
    "We will now do some data cleaning and EDA in order to prepare our data for various machine learning models and get a better understanding of different distributions and patterns. Before looking at every column individually, lets get a general idea of the data."
   ]
  },
  {
   "cell_type": "code",
   "execution_count": 9,
   "metadata": {
    "colab": {
     "base_uri": "https://localhost:8080/"
    },
    "id": "QMakE5Hx-znQ",
    "outputId": "f7473f4c-65a0-4086-a64c-1abc7956928d"
   },
   "outputs": [
    {
     "data": {
      "text/plain": [
       "(660679, 14)"
      ]
     },
     "execution_count": 9,
     "metadata": {},
     "output_type": "execute_result"
    }
   ],
   "source": [
    "accident.shape"
   ]
  },
  {
   "cell_type": "code",
   "execution_count": 10,
   "metadata": {
    "colab": {
     "base_uri": "https://localhost:8080/"
    },
    "id": "KA2ws9tZ-1Tq",
    "outputId": "fd72bede-c266-4606-b965-d41433f31625"
   },
   "outputs": [
    {
     "data": {
      "text/plain": [
       "Index                       object\n",
       "Accident_Severity           object\n",
       "Accident Date               object\n",
       "Latitude                   float64\n",
       "Light_Conditions            object\n",
       "District Area               object\n",
       "Longitude                  float64\n",
       "Number_of_Casualties         int64\n",
       "Number_of_Vehicles           int64\n",
       "Road_Surface_Conditions     object\n",
       "Road_Type                   object\n",
       "Urban_or_Rural_Area         object\n",
       "Weather_Conditions          object\n",
       "Vehicle_Type                object\n",
       "dtype: object"
      ]
     },
     "execution_count": 10,
     "metadata": {},
     "output_type": "execute_result"
    }
   ],
   "source": [
    "# get all the datatypes\n",
    "# date is a str\n",
    "accident.dtypes"
   ]
  },
  {
   "cell_type": "code",
   "execution_count": 11,
   "metadata": {
    "colab": {
     "base_uri": "https://localhost:8080/"
    },
    "id": "Yvz1FtQC-2XH",
    "outputId": "32cbae56-1afa-4fc2-8623-de697eee211a"
   },
   "outputs": [
    {
     "name": "stdout",
     "output_type": "stream",
     "text": [
      "Index: 421020\n",
      "Accident_Severity: 3\n",
      "Accident Date: 1461\n",
      "Latitude: 511618\n",
      "Light_Conditions: 5\n",
      "District Area: 422\n",
      "Longitude: 529766\n",
      "Number_of_Casualties: 36\n",
      "Number_of_Vehicles: 19\n",
      "Road_Surface_Conditions: 5\n",
      "Road_Type: 5\n",
      "Urban_or_Rural_Area: 3\n",
      "Weather_Conditions: 8\n",
      "Vehicle_Type: 16\n"
     ]
    }
   ],
   "source": [
    "# number of unique values in each column\n",
    "for col in accident.columns:\n",
    "  print(f'{col}: {accident[col].nunique()}')"
   ]
  },
  {
   "cell_type": "code",
   "execution_count": 12,
   "metadata": {},
   "outputs": [
    {
     "name": "stdout",
     "output_type": "stream",
     "text": [
      "<class 'pandas.core.frame.DataFrame'>\n",
      "RangeIndex: 660679 entries, 0 to 660678\n",
      "Data columns (total 14 columns):\n",
      " #   Column                   Non-Null Count   Dtype  \n",
      "---  ------                   --------------   -----  \n",
      " 0   Index                    660679 non-null  object \n",
      " 1   Accident_Severity        660679 non-null  object \n",
      " 2   Accident Date            660679 non-null  object \n",
      " 3   Latitude                 660654 non-null  float64\n",
      " 4   Light_Conditions         660679 non-null  object \n",
      " 5   District Area            660679 non-null  object \n",
      " 6   Longitude                660653 non-null  float64\n",
      " 7   Number_of_Casualties     660679 non-null  int64  \n",
      " 8   Number_of_Vehicles       660679 non-null  int64  \n",
      " 9   Road_Surface_Conditions  659953 non-null  object \n",
      " 10  Road_Type                656159 non-null  object \n",
      " 11  Urban_or_Rural_Area      660664 non-null  object \n",
      " 12  Weather_Conditions       646551 non-null  object \n",
      " 13  Vehicle_Type             660679 non-null  object \n",
      "dtypes: float64(2), int64(2), object(10)\n",
      "memory usage: 70.6+ MB\n"
     ]
    }
   ],
   "source": [
    "accident.info()"
   ]
  },
  {
   "cell_type": "code",
   "execution_count": 13,
   "metadata": {},
   "outputs": [
    {
     "name": "stdout",
     "output_type": "stream",
     "text": [
      "Index                          0\n",
      "Accident_Severity              0\n",
      "Accident Date                  0\n",
      "Latitude                      25\n",
      "Light_Conditions               0\n",
      "District Area                  0\n",
      "Longitude                     26\n",
      "Number_of_Casualties           0\n",
      "Number_of_Vehicles             0\n",
      "Road_Surface_Conditions      726\n",
      "Road_Type                   4520\n",
      "Urban_or_Rural_Area           15\n",
      "Weather_Conditions         14128\n",
      "Vehicle_Type                   0\n",
      "dtype: int64\n"
     ]
    }
   ],
   "source": [
    "null_counts = accident.isnull().sum()\n",
    "print(null_counts)"
   ]
  },
  {
   "cell_type": "code",
   "execution_count": 14,
   "metadata": {
    "id": "voaLIyuVEx5f"
   },
   "outputs": [],
   "source": [
    "# make a copy of accident dataframe\n",
    "accident_copy = accident.copy()"
   ]
  },
  {
   "cell_type": "code",
   "execution_count": 15,
   "metadata": {
    "colab": {
     "base_uri": "https://localhost:8080/",
     "height": 297
    },
    "id": "ZdHQZ-PTKmJn",
    "outputId": "fd0e27e3-bfe4-49a3-a1b8-d21830f97cc9"
   },
   "outputs": [
    {
     "data": {
      "text/html": [
       "<div>\n",
       "<style scoped>\n",
       "    .dataframe tbody tr th:only-of-type {\n",
       "        vertical-align: middle;\n",
       "    }\n",
       "\n",
       "    .dataframe tbody tr th {\n",
       "        vertical-align: top;\n",
       "    }\n",
       "\n",
       "    .dataframe thead th {\n",
       "        text-align: right;\n",
       "    }\n",
       "</style>\n",
       "<table border=\"1\" class=\"dataframe\">\n",
       "  <thead>\n",
       "    <tr style=\"text-align: right;\">\n",
       "      <th></th>\n",
       "      <th>Latitude</th>\n",
       "      <th>Longitude</th>\n",
       "      <th>Number_of_Casualties</th>\n",
       "      <th>Number_of_Vehicles</th>\n",
       "    </tr>\n",
       "  </thead>\n",
       "  <tbody>\n",
       "    <tr>\n",
       "      <th>count</th>\n",
       "      <td>660654.000000</td>\n",
       "      <td>660653.000000</td>\n",
       "      <td>660679.000000</td>\n",
       "      <td>660679.000000</td>\n",
       "    </tr>\n",
       "    <tr>\n",
       "      <th>mean</th>\n",
       "      <td>52.553866</td>\n",
       "      <td>-1.431210</td>\n",
       "      <td>1.357040</td>\n",
       "      <td>1.831255</td>\n",
       "    </tr>\n",
       "    <tr>\n",
       "      <th>std</th>\n",
       "      <td>1.406922</td>\n",
       "      <td>1.383330</td>\n",
       "      <td>0.824847</td>\n",
       "      <td>0.715269</td>\n",
       "    </tr>\n",
       "    <tr>\n",
       "      <th>min</th>\n",
       "      <td>49.914430</td>\n",
       "      <td>-7.516225</td>\n",
       "      <td>1.000000</td>\n",
       "      <td>1.000000</td>\n",
       "    </tr>\n",
       "    <tr>\n",
       "      <th>25%</th>\n",
       "      <td>51.490690</td>\n",
       "      <td>-2.332291</td>\n",
       "      <td>1.000000</td>\n",
       "      <td>1.000000</td>\n",
       "    </tr>\n",
       "    <tr>\n",
       "      <th>50%</th>\n",
       "      <td>52.315641</td>\n",
       "      <td>-1.411667</td>\n",
       "      <td>1.000000</td>\n",
       "      <td>2.000000</td>\n",
       "    </tr>\n",
       "    <tr>\n",
       "      <th>75%</th>\n",
       "      <td>53.453452</td>\n",
       "      <td>-0.232869</td>\n",
       "      <td>1.000000</td>\n",
       "      <td>2.000000</td>\n",
       "    </tr>\n",
       "    <tr>\n",
       "      <th>max</th>\n",
       "      <td>60.757544</td>\n",
       "      <td>1.762010</td>\n",
       "      <td>68.000000</td>\n",
       "      <td>32.000000</td>\n",
       "    </tr>\n",
       "  </tbody>\n",
       "</table>\n",
       "</div>"
      ],
      "text/plain": [
       "            Latitude      Longitude  Number_of_Casualties  Number_of_Vehicles\n",
       "count  660654.000000  660653.000000         660679.000000       660679.000000\n",
       "mean       52.553866      -1.431210              1.357040            1.831255\n",
       "std         1.406922       1.383330              0.824847            0.715269\n",
       "min        49.914430      -7.516225              1.000000            1.000000\n",
       "25%        51.490690      -2.332291              1.000000            1.000000\n",
       "50%        52.315641      -1.411667              1.000000            2.000000\n",
       "75%        53.453452      -0.232869              1.000000            2.000000\n",
       "max        60.757544       1.762010             68.000000           32.000000"
      ]
     },
     "execution_count": 15,
     "metadata": {},
     "output_type": "execute_result"
    }
   ],
   "source": [
    "# get general idea of min max for the numerical columns (no anomalies)\n",
    "accident_copy.describe()"
   ]
  },
  {
   "cell_type": "markdown",
   "metadata": {},
   "source": [
    "#### Index\n",
    "\n",
    "This column isn't adding any additional information to our data. Hence, we will remove it from our dataframe."
   ]
  },
  {
   "cell_type": "code",
   "execution_count": 16,
   "metadata": {},
   "outputs": [],
   "source": [
    "accident_copy = accident_copy.drop([\"Index\"], axis=1)"
   ]
  },
  {
   "cell_type": "markdown",
   "metadata": {
    "id": "ZKdYrSJV_2yG"
   },
   "source": [
    "#### Accident_Severity\n",
    "\n",
    "Since this data is labelled as 'Serious', 'Slight', or 'Fatal', we will replace it with 1,0 or 2 respectively."
   ]
  },
  {
   "cell_type": "code",
   "execution_count": 17,
   "metadata": {
    "id": "v8VxeBHR-3sV"
   },
   "outputs": [],
   "source": [
    "# Turning Severity into numbers\n",
    "\n",
    "to_num = {'Serious': 1, 'Slight': 0 , 'Fatal': 2}\n",
    "accident_copy['Accident_Severity'] = accident['Accident_Severity'].replace(to_num)"
   ]
  },
  {
   "cell_type": "code",
   "execution_count": 18,
   "metadata": {},
   "outputs": [
    {
     "name": "stdout",
     "output_type": "stream",
     "text": [
      "Accident_Severity\n",
      "0    563801\n",
      "1     88217\n",
      "2      8661\n",
      "Name: count, dtype: int64\n"
     ]
    }
   ],
   "source": [
    "print(accident_copy['Accident_Severity'].value_counts())"
   ]
  },
  {
   "cell_type": "markdown",
   "metadata": {
    "id": "W7z1mJaZ_5kg"
   },
   "source": [
    "#### Accident Date\n",
    "\n",
    "This column is encoded as a string, hence we will split up the day, month and year into 3 seperate columns"
   ]
  },
  {
   "cell_type": "code",
   "execution_count": 19,
   "metadata": {
    "id": "Gtl1yNx3-5Me"
   },
   "outputs": [],
   "source": [
    "# turn dates column into three columns: day, month, year\n",
    "accident_copy['Day'] = accident['Accident Date'].str.split('-').apply(lambda x: int(x[0]))\n",
    "accident_copy['Month'] = accident['Accident Date'].str.split('-').apply(lambda x: int(x[1]))\n",
    "accident_copy['Year'] = accident['Accident Date'].str.split('-').apply(lambda x: int(x[2]))\n",
    "\n",
    "# Let's drop the data column now\n",
    "accident_copy = accident_copy.drop('Accident Date', axis=1)"
   ]
  },
  {
   "cell_type": "code",
   "execution_count": 20,
   "metadata": {},
   "outputs": [
    {
     "data": {
      "text/html": [
       "<div>\n",
       "<style scoped>\n",
       "    .dataframe tbody tr th:only-of-type {\n",
       "        vertical-align: middle;\n",
       "    }\n",
       "\n",
       "    .dataframe tbody tr th {\n",
       "        vertical-align: top;\n",
       "    }\n",
       "\n",
       "    .dataframe thead th {\n",
       "        text-align: right;\n",
       "    }\n",
       "</style>\n",
       "<table border=\"1\" class=\"dataframe\">\n",
       "  <thead>\n",
       "    <tr style=\"text-align: right;\">\n",
       "      <th></th>\n",
       "      <th>Accident_Severity</th>\n",
       "      <th>Latitude</th>\n",
       "      <th>Light_Conditions</th>\n",
       "      <th>District Area</th>\n",
       "      <th>Longitude</th>\n",
       "      <th>Number_of_Casualties</th>\n",
       "      <th>Number_of_Vehicles</th>\n",
       "      <th>Road_Surface_Conditions</th>\n",
       "      <th>Road_Type</th>\n",
       "      <th>Urban_or_Rural_Area</th>\n",
       "      <th>Weather_Conditions</th>\n",
       "      <th>Vehicle_Type</th>\n",
       "      <th>Day</th>\n",
       "      <th>Month</th>\n",
       "      <th>Year</th>\n",
       "    </tr>\n",
       "  </thead>\n",
       "  <tbody>\n",
       "    <tr>\n",
       "      <th>0</th>\n",
       "      <td>1</td>\n",
       "      <td>51.506187</td>\n",
       "      <td>Darkness - lights lit</td>\n",
       "      <td>Kensington and Chelsea</td>\n",
       "      <td>-0.209082</td>\n",
       "      <td>1</td>\n",
       "      <td>2</td>\n",
       "      <td>Dry</td>\n",
       "      <td>Single carriageway</td>\n",
       "      <td>Urban</td>\n",
       "      <td>Fine no high winds</td>\n",
       "      <td>Car</td>\n",
       "      <td>5</td>\n",
       "      <td>6</td>\n",
       "      <td>2019</td>\n",
       "    </tr>\n",
       "    <tr>\n",
       "      <th>1</th>\n",
       "      <td>1</td>\n",
       "      <td>51.495029</td>\n",
       "      <td>Daylight</td>\n",
       "      <td>Kensington and Chelsea</td>\n",
       "      <td>-0.173647</td>\n",
       "      <td>1</td>\n",
       "      <td>2</td>\n",
       "      <td>Wet or damp</td>\n",
       "      <td>Single carriageway</td>\n",
       "      <td>Urban</td>\n",
       "      <td>Raining no high winds</td>\n",
       "      <td>Car</td>\n",
       "      <td>2</td>\n",
       "      <td>7</td>\n",
       "      <td>2019</td>\n",
       "    </tr>\n",
       "    <tr>\n",
       "      <th>2</th>\n",
       "      <td>1</td>\n",
       "      <td>51.517715</td>\n",
       "      <td>Darkness - lighting unknown</td>\n",
       "      <td>Kensington and Chelsea</td>\n",
       "      <td>-0.210215</td>\n",
       "      <td>1</td>\n",
       "      <td>3</td>\n",
       "      <td>Dry</td>\n",
       "      <td>NaN</td>\n",
       "      <td>Urban</td>\n",
       "      <td>NaN</td>\n",
       "      <td>Taxi/Private hire car</td>\n",
       "      <td>26</td>\n",
       "      <td>8</td>\n",
       "      <td>2019</td>\n",
       "    </tr>\n",
       "    <tr>\n",
       "      <th>3</th>\n",
       "      <td>1</td>\n",
       "      <td>51.495478</td>\n",
       "      <td>Daylight</td>\n",
       "      <td>Kensington and Chelsea</td>\n",
       "      <td>-0.202731</td>\n",
       "      <td>1</td>\n",
       "      <td>4</td>\n",
       "      <td>Dry</td>\n",
       "      <td>Single carriageway</td>\n",
       "      <td>Urban</td>\n",
       "      <td>Fine no high winds</td>\n",
       "      <td>Bus or coach (17 or more pass seats)</td>\n",
       "      <td>16</td>\n",
       "      <td>8</td>\n",
       "      <td>2019</td>\n",
       "    </tr>\n",
       "    <tr>\n",
       "      <th>4</th>\n",
       "      <td>0</td>\n",
       "      <td>51.488576</td>\n",
       "      <td>Darkness - lights lit</td>\n",
       "      <td>Kensington and Chelsea</td>\n",
       "      <td>-0.192487</td>\n",
       "      <td>1</td>\n",
       "      <td>2</td>\n",
       "      <td>Dry</td>\n",
       "      <td>NaN</td>\n",
       "      <td>Urban</td>\n",
       "      <td>NaN</td>\n",
       "      <td>Other vehicle</td>\n",
       "      <td>3</td>\n",
       "      <td>9</td>\n",
       "      <td>2019</td>\n",
       "    </tr>\n",
       "    <tr>\n",
       "      <th>...</th>\n",
       "      <td>...</td>\n",
       "      <td>...</td>\n",
       "      <td>...</td>\n",
       "      <td>...</td>\n",
       "      <td>...</td>\n",
       "      <td>...</td>\n",
       "      <td>...</td>\n",
       "      <td>...</td>\n",
       "      <td>...</td>\n",
       "      <td>...</td>\n",
       "      <td>...</td>\n",
       "      <td>...</td>\n",
       "      <td>...</td>\n",
       "      <td>...</td>\n",
       "      <td>...</td>\n",
       "    </tr>\n",
       "    <tr>\n",
       "      <th>660674</th>\n",
       "      <td>0</td>\n",
       "      <td>57.374005</td>\n",
       "      <td>Daylight</td>\n",
       "      <td>Highland</td>\n",
       "      <td>-3.467828</td>\n",
       "      <td>2</td>\n",
       "      <td>1</td>\n",
       "      <td>Dry</td>\n",
       "      <td>Single carriageway</td>\n",
       "      <td>Rural</td>\n",
       "      <td>Fine no high winds</td>\n",
       "      <td>Car</td>\n",
       "      <td>18</td>\n",
       "      <td>2</td>\n",
       "      <td>2022</td>\n",
       "    </tr>\n",
       "    <tr>\n",
       "      <th>660675</th>\n",
       "      <td>0</td>\n",
       "      <td>57.232273</td>\n",
       "      <td>Darkness - no lighting</td>\n",
       "      <td>Highland</td>\n",
       "      <td>-3.809281</td>\n",
       "      <td>1</td>\n",
       "      <td>1</td>\n",
       "      <td>Frost or ice</td>\n",
       "      <td>Single carriageway</td>\n",
       "      <td>Rural</td>\n",
       "      <td>Fine no high winds</td>\n",
       "      <td>Car</td>\n",
       "      <td>21</td>\n",
       "      <td>2</td>\n",
       "      <td>2022</td>\n",
       "    </tr>\n",
       "    <tr>\n",
       "      <th>660676</th>\n",
       "      <td>0</td>\n",
       "      <td>57.585044</td>\n",
       "      <td>Daylight</td>\n",
       "      <td>Highland</td>\n",
       "      <td>-3.862727</td>\n",
       "      <td>1</td>\n",
       "      <td>3</td>\n",
       "      <td>Frost or ice</td>\n",
       "      <td>Single carriageway</td>\n",
       "      <td>Rural</td>\n",
       "      <td>Fine no high winds</td>\n",
       "      <td>Car</td>\n",
       "      <td>23</td>\n",
       "      <td>2</td>\n",
       "      <td>2022</td>\n",
       "    </tr>\n",
       "    <tr>\n",
       "      <th>660677</th>\n",
       "      <td>1</td>\n",
       "      <td>57.214898</td>\n",
       "      <td>Darkness - no lighting</td>\n",
       "      <td>Highland</td>\n",
       "      <td>-3.823997</td>\n",
       "      <td>1</td>\n",
       "      <td>2</td>\n",
       "      <td>Wet or damp</td>\n",
       "      <td>Single carriageway</td>\n",
       "      <td>Rural</td>\n",
       "      <td>Fine no high winds</td>\n",
       "      <td>Motorcycle over 500cc</td>\n",
       "      <td>23</td>\n",
       "      <td>2</td>\n",
       "      <td>2022</td>\n",
       "    </tr>\n",
       "    <tr>\n",
       "      <th>660678</th>\n",
       "      <td>1</td>\n",
       "      <td>57.575210</td>\n",
       "      <td>Daylight</td>\n",
       "      <td>Highland</td>\n",
       "      <td>-3.895673</td>\n",
       "      <td>1</td>\n",
       "      <td>1</td>\n",
       "      <td>Wet or damp</td>\n",
       "      <td>Dual carriageway</td>\n",
       "      <td>Rural</td>\n",
       "      <td>Snowing no high winds</td>\n",
       "      <td>Car</td>\n",
       "      <td>28</td>\n",
       "      <td>2</td>\n",
       "      <td>2022</td>\n",
       "    </tr>\n",
       "  </tbody>\n",
       "</table>\n",
       "<p>660679 rows × 15 columns</p>\n",
       "</div>"
      ],
      "text/plain": [
       "        Accident_Severity   Latitude             Light_Conditions  \\\n",
       "0                       1  51.506187        Darkness - lights lit   \n",
       "1                       1  51.495029                     Daylight   \n",
       "2                       1  51.517715  Darkness - lighting unknown   \n",
       "3                       1  51.495478                     Daylight   \n",
       "4                       0  51.488576        Darkness - lights lit   \n",
       "...                   ...        ...                          ...   \n",
       "660674                  0  57.374005                     Daylight   \n",
       "660675                  0  57.232273       Darkness - no lighting   \n",
       "660676                  0  57.585044                     Daylight   \n",
       "660677                  1  57.214898       Darkness - no lighting   \n",
       "660678                  1  57.575210                     Daylight   \n",
       "\n",
       "                 District Area  Longitude  Number_of_Casualties  \\\n",
       "0       Kensington and Chelsea  -0.209082                     1   \n",
       "1       Kensington and Chelsea  -0.173647                     1   \n",
       "2       Kensington and Chelsea  -0.210215                     1   \n",
       "3       Kensington and Chelsea  -0.202731                     1   \n",
       "4       Kensington and Chelsea  -0.192487                     1   \n",
       "...                        ...        ...                   ...   \n",
       "660674                Highland  -3.467828                     2   \n",
       "660675                Highland  -3.809281                     1   \n",
       "660676                Highland  -3.862727                     1   \n",
       "660677                Highland  -3.823997                     1   \n",
       "660678                Highland  -3.895673                     1   \n",
       "\n",
       "        Number_of_Vehicles Road_Surface_Conditions           Road_Type  \\\n",
       "0                        2                     Dry  Single carriageway   \n",
       "1                        2             Wet or damp  Single carriageway   \n",
       "2                        3                     Dry                 NaN   \n",
       "3                        4                     Dry  Single carriageway   \n",
       "4                        2                     Dry                 NaN   \n",
       "...                    ...                     ...                 ...   \n",
       "660674                   1                     Dry  Single carriageway   \n",
       "660675                   1            Frost or ice  Single carriageway   \n",
       "660676                   3            Frost or ice  Single carriageway   \n",
       "660677                   2             Wet or damp  Single carriageway   \n",
       "660678                   1             Wet or damp    Dual carriageway   \n",
       "\n",
       "       Urban_or_Rural_Area     Weather_Conditions  \\\n",
       "0                    Urban     Fine no high winds   \n",
       "1                    Urban  Raining no high winds   \n",
       "2                    Urban                    NaN   \n",
       "3                    Urban     Fine no high winds   \n",
       "4                    Urban                    NaN   \n",
       "...                    ...                    ...   \n",
       "660674               Rural     Fine no high winds   \n",
       "660675               Rural     Fine no high winds   \n",
       "660676               Rural     Fine no high winds   \n",
       "660677               Rural     Fine no high winds   \n",
       "660678               Rural  Snowing no high winds   \n",
       "\n",
       "                                Vehicle_Type  Day  Month  Year  \n",
       "0                                        Car    5      6  2019  \n",
       "1                                        Car    2      7  2019  \n",
       "2                      Taxi/Private hire car   26      8  2019  \n",
       "3       Bus or coach (17 or more pass seats)   16      8  2019  \n",
       "4                              Other vehicle    3      9  2019  \n",
       "...                                      ...  ...    ...   ...  \n",
       "660674                                   Car   18      2  2022  \n",
       "660675                                   Car   21      2  2022  \n",
       "660676                                   Car   23      2  2022  \n",
       "660677                 Motorcycle over 500cc   23      2  2022  \n",
       "660678                                   Car   28      2  2022  \n",
       "\n",
       "[660679 rows x 15 columns]"
      ]
     },
     "execution_count": 20,
     "metadata": {},
     "output_type": "execute_result"
    }
   ],
   "source": [
    "accident_copy"
   ]
  },
  {
   "cell_type": "markdown",
   "metadata": {},
   "source": [
    "#### Latitude and Longitude\n",
    "\n",
    "We will look at these features together since they are highly correlated geographically. We have some null values for these features- lets count them!"
   ]
  },
  {
   "cell_type": "code",
   "execution_count": 21,
   "metadata": {},
   "outputs": [
    {
     "name": "stdout",
     "output_type": "stream",
     "text": [
      "Number of nulls in Latitude: 25\n",
      "Number of nulls in Longitude: 26\n"
     ]
    }
   ],
   "source": [
    "print(\"Number of nulls in Latitude: \" + str(accident_copy['Latitude'].isnull().sum()))\n",
    "print(\"Number of nulls in Longitude: \" + str(accident_copy['Longitude'].isnull().sum()))"
   ]
  },
  {
   "cell_type": "markdown",
   "metadata": {},
   "source": [
    "Since the number of null values are insignificant in comparision to the size of the data, we will remove the rows with the null values for both latitude and longitude."
   ]
  },
  {
   "cell_type": "code",
   "execution_count": 22,
   "metadata": {},
   "outputs": [
    {
     "data": {
      "text/plain": [
       "(660679, 15)"
      ]
     },
     "execution_count": 22,
     "metadata": {},
     "output_type": "execute_result"
    }
   ],
   "source": [
    "accident_copy.shape"
   ]
  },
  {
   "cell_type": "code",
   "execution_count": 23,
   "metadata": {},
   "outputs": [
    {
     "data": {
      "text/plain": [
       "(660653, 15)"
      ]
     },
     "execution_count": 23,
     "metadata": {},
     "output_type": "execute_result"
    }
   ],
   "source": [
    "accident_copy = accident_copy.dropna(subset=['Latitude'])\n",
    "accident_copy = accident_copy.dropna(subset=['Longitude'])\n",
    "accident_copy.shape"
   ]
  },
  {
   "cell_type": "markdown",
   "metadata": {},
   "source": [
    "Since we have 26 less rows, we can say that the 25 pairs of latitudes and longitudes along with the one additional missing longitude have been removed from our dataframe."
   ]
  },
  {
   "cell_type": "markdown",
   "metadata": {
    "id": "XaMN5rb5_77A"
   },
   "source": [
    "#### Light_Conditions"
   ]
  },
  {
   "cell_type": "code",
   "execution_count": 24,
   "metadata": {},
   "outputs": [
    {
     "data": {
      "text/plain": [
       "array(['Darkness - lights lit', 'Daylight', 'Darkness - lighting unknown',\n",
       "       'Darkness - lights unlit', 'Darkness - no lighting'], dtype=object)"
      ]
     },
     "execution_count": 24,
     "metadata": {},
     "output_type": "execute_result"
    }
   ],
   "source": [
    "accident_copy['Light_Conditions'].unique()"
   ]
  },
  {
   "cell_type": "code",
   "execution_count": 25,
   "metadata": {},
   "outputs": [
    {
     "data": {
      "text/plain": [
       "0"
      ]
     },
     "execution_count": 25,
     "metadata": {},
     "output_type": "execute_result"
    }
   ],
   "source": [
    "accident_copy['Light_Conditions'].isnull().sum()"
   ]
  },
  {
   "cell_type": "code",
   "execution_count": 26,
   "metadata": {
    "id": "DKi2brqR-8bA"
   },
   "outputs": [],
   "source": [
    "# assume NaN for 'Darkness - lighting unknown'\n",
    "accident_copy['Light_Conditions'] = accident['Light_Conditions'].replace('Darkness - lighting unknown', np.NaN)"
   ]
  },
  {
   "cell_type": "markdown",
   "metadata": {},
   "source": [
    "Let us now drop the Nan columns and encode the remaining data."
   ]
  },
  {
   "cell_type": "code",
   "execution_count": 27,
   "metadata": {},
   "outputs": [
    {
     "data": {
      "text/plain": [
       "0         2\n",
       "1         3\n",
       "3         3\n",
       "4         2\n",
       "5         3\n",
       "         ..\n",
       "660674    3\n",
       "660675    0\n",
       "660676    3\n",
       "660677    0\n",
       "660678    3\n",
       "Name: Light_Conditions, Length: 654169, dtype: int64"
      ]
     },
     "execution_count": 27,
     "metadata": {},
     "output_type": "execute_result"
    }
   ],
   "source": [
    "to_num = {\n",
    "    'Darkness - lights lit':2, \n",
    "    'Daylight':3, \n",
    "    'Darkness - lights unlit':1, \n",
    "    'Darkness - no lighting':0\n",
    "}\n",
    "accident_copy = accident_copy.dropna(subset=['Light_Conditions'])\n",
    "accident_copy['Light_Conditions'] = accident_copy['Light_Conditions'].replace(to_num)\n",
    "accident_copy['Light_Conditions']"
   ]
  },
  {
   "cell_type": "code",
   "execution_count": 28,
   "metadata": {},
   "outputs": [
    {
     "data": {
      "text/plain": [
       "Light_Conditions\n",
       "3    484861\n",
       "2    129331\n",
       "0     37435\n",
       "1      2542\n",
       "Name: count, dtype: int64"
      ]
     },
     "execution_count": 28,
     "metadata": {},
     "output_type": "execute_result"
    }
   ],
   "source": [
    "accident_copy['Light_Conditions'].value_counts()"
   ]
  },
  {
   "cell_type": "markdown",
   "metadata": {
    "id": "LLTDeI7ZMOqZ"
   },
   "source": [
    "#### District Area"
   ]
  },
  {
   "cell_type": "markdown",
   "metadata": {},
   "source": [
    "No null values, so no major cleaning here!"
   ]
  },
  {
   "cell_type": "code",
   "execution_count": 29,
   "metadata": {
    "id": "HiTEIiV_MOCU"
   },
   "outputs": [],
   "source": [
    "# rename District Area so it is consistent in column formatting\n",
    "accident_copy = accident_copy.rename(columns={'District Area': 'District_Area'})\n"
   ]
  },
  {
   "cell_type": "code",
   "execution_count": 30,
   "metadata": {},
   "outputs": [
    {
     "data": {
      "text/plain": [
       "District_Area\n",
       "Birmingham            13409\n",
       "Leeds                  8647\n",
       "Manchester             6518\n",
       "Bradford               6057\n",
       "Westminster            5689\n",
       "                      ...  \n",
       "Berwick-upon-Tweed      153\n",
       "Teesdale                142\n",
       "Shetland Islands        130\n",
       "Orkney Islands          116\n",
       "Clackmannanshire         91\n",
       "Name: count, Length: 422, dtype: int64"
      ]
     },
     "execution_count": 30,
     "metadata": {},
     "output_type": "execute_result"
    }
   ],
   "source": [
    "accident_copy['District_Area'].value_counts()"
   ]
  },
  {
   "cell_type": "markdown",
   "metadata": {
    "id": "BZxohqxuBbZs"
   },
   "source": [
    "#### Weather_Conditions"
   ]
  },
  {
   "cell_type": "code",
   "execution_count": 31,
   "metadata": {
    "id": "13HX09-tAy4O"
   },
   "outputs": [],
   "source": [
    "# weather conditions seem to have combinations, so we could one hot encode it instead\n",
    "# the categories include 'Fine', 'High Winds', 'Raining', 'Snowing', 'Fog or mist', 'Other'\n",
    "\n",
    "# first split up the labels into lists\n",
    "accident_copy['Weather_Conditions'] = accident['Weather_Conditions'].apply(\n",
    "    lambda x: ['Fine'] if x == 'Fine no high winds'\n",
    "    else ['Raining'] if x == 'Raining no high winds'\n",
    "    else ['Fine', 'High winds'] if x == 'Fine + high winds'\n",
    "    else ['Raining', 'High winds'] if x == 'Raining + high winds'\n",
    "    else ['Snowing'] if x == 'Snowing no high winds'\n",
    "    else ['Fog or mist'] if x == 'Fog or mist'\n",
    "    else ['Snowing', 'High winds'] if x == 'Snowing + high winds'\n",
    "    else ['Other'] if x == 'Other'\n",
    "    else np.NaN\n",
    ")"
   ]
  },
  {
   "cell_type": "code",
   "execution_count": 32,
   "metadata": {},
   "outputs": [
    {
     "data": {
      "text/plain": [
       "Weather_Conditions\n",
       "[Fine]                   517183\n",
       "[Raining]                 79070\n",
       "[Other]                   16964\n",
       "[Raining, High winds]      9504\n",
       "[Fine, High winds]         8495\n",
       "[Snowing]                  6144\n",
       "[Fog or mist]              3463\n",
       "[Snowing, High winds]       869\n",
       "Name: count, dtype: int64"
      ]
     },
     "execution_count": 32,
     "metadata": {},
     "output_type": "execute_result"
    }
   ],
   "source": [
    "accident_copy['Weather_Conditions'].value_counts()"
   ]
  },
  {
   "cell_type": "markdown",
   "metadata": {},
   "source": [
    "**We have encoded this data using One Hot Encoding later in the notebook**"
   ]
  },
  {
   "cell_type": "markdown",
   "metadata": {
    "id": "UZO7YNS4KL6O"
   },
   "source": [
    "#### Vehicle_Type"
   ]
  },
  {
   "cell_type": "code",
   "execution_count": 33,
   "metadata": {
    "id": "OyDrNZXJJ6t6"
   },
   "outputs": [],
   "source": [
    "# assume NaN for 'Data missing or out of range'\n",
    "accident_copy['Vehicle_Type'] = accident['Vehicle_Type'].replace('Data missing or out of range', np.NaN)"
   ]
  },
  {
   "cell_type": "markdown",
   "metadata": {},
   "source": [
    "#### Before proceeding forward...\n",
    "\n",
    "Let's look once again at all the null data. The data cleaning for the next 5 features includes removing all the null data. Let's do this at one go."
   ]
  },
  {
   "cell_type": "code",
   "execution_count": 34,
   "metadata": {
    "colab": {
     "base_uri": "https://localhost:8080/"
    },
    "id": "n8gG0pFJJ3rs",
    "outputId": "b8665c83-fe8a-4394-fa98-35f69a24293e"
   },
   "outputs": [
    {
     "data": {
      "text/plain": [
       "Accident_Severity              0\n",
       "Latitude                       0\n",
       "Light_Conditions               0\n",
       "District_Area                  0\n",
       "Longitude                      0\n",
       "Number_of_Casualties           0\n",
       "Number_of_Vehicles             0\n",
       "Road_Surface_Conditions      682\n",
       "Road_Type                   4283\n",
       "Urban_or_Rural_Area            2\n",
       "Weather_Conditions         12477\n",
       "Vehicle_Type                   6\n",
       "Day                            0\n",
       "Month                          0\n",
       "Year                           0\n",
       "dtype: int64"
      ]
     },
     "execution_count": 34,
     "metadata": {},
     "output_type": "execute_result"
    }
   ],
   "source": [
    "# find out the current number of missing values in the dataset\n",
    "accident_copy.isnull().sum()"
   ]
  },
  {
   "cell_type": "code",
   "execution_count": 35,
   "metadata": {
    "colab": {
     "base_uri": "https://localhost:8080/"
    },
    "id": "5ifr5j3TJuM1",
    "outputId": "3bfdb18d-63bc-4497-9ac5-64edccb1abb2"
   },
   "outputs": [
    {
     "name": "stdout",
     "output_type": "stream",
     "text": [
      "Before dropping missing values: 660679 rows\n",
      "After dropping missing values: 638025 rows\n"
     ]
    }
   ],
   "source": [
    "# drop all NaN values\n",
    "accident_copy = accident_copy.dropna()\n",
    "print(f'Before dropping missing values: {accident.shape[0]} rows')\n",
    "print(f'After dropping missing values: {accident_copy.shape[0]} rows')"
   ]
  },
  {
   "cell_type": "code",
   "execution_count": 36,
   "metadata": {},
   "outputs": [
    {
     "data": {
      "text/html": [
       "<div>\n",
       "<style scoped>\n",
       "    .dataframe tbody tr th:only-of-type {\n",
       "        vertical-align: middle;\n",
       "    }\n",
       "\n",
       "    .dataframe tbody tr th {\n",
       "        vertical-align: top;\n",
       "    }\n",
       "\n",
       "    .dataframe thead th {\n",
       "        text-align: right;\n",
       "    }\n",
       "</style>\n",
       "<table border=\"1\" class=\"dataframe\">\n",
       "  <thead>\n",
       "    <tr style=\"text-align: right;\">\n",
       "      <th></th>\n",
       "      <th>Accident_Severity</th>\n",
       "      <th>Latitude</th>\n",
       "      <th>Light_Conditions</th>\n",
       "      <th>District_Area</th>\n",
       "      <th>Longitude</th>\n",
       "      <th>Number_of_Casualties</th>\n",
       "      <th>Number_of_Vehicles</th>\n",
       "      <th>Road_Surface_Conditions</th>\n",
       "      <th>Road_Type</th>\n",
       "      <th>Urban_or_Rural_Area</th>\n",
       "      <th>Weather_Conditions</th>\n",
       "      <th>Vehicle_Type</th>\n",
       "      <th>Day</th>\n",
       "      <th>Month</th>\n",
       "      <th>Year</th>\n",
       "    </tr>\n",
       "  </thead>\n",
       "  <tbody>\n",
       "    <tr>\n",
       "      <th>0</th>\n",
       "      <td>1</td>\n",
       "      <td>51.506187</td>\n",
       "      <td>2</td>\n",
       "      <td>Kensington and Chelsea</td>\n",
       "      <td>-0.209082</td>\n",
       "      <td>1</td>\n",
       "      <td>2</td>\n",
       "      <td>Dry</td>\n",
       "      <td>Single carriageway</td>\n",
       "      <td>Urban</td>\n",
       "      <td>[Fine]</td>\n",
       "      <td>Car</td>\n",
       "      <td>5</td>\n",
       "      <td>6</td>\n",
       "      <td>2019</td>\n",
       "    </tr>\n",
       "    <tr>\n",
       "      <th>1</th>\n",
       "      <td>1</td>\n",
       "      <td>51.495029</td>\n",
       "      <td>3</td>\n",
       "      <td>Kensington and Chelsea</td>\n",
       "      <td>-0.173647</td>\n",
       "      <td>1</td>\n",
       "      <td>2</td>\n",
       "      <td>Wet or damp</td>\n",
       "      <td>Single carriageway</td>\n",
       "      <td>Urban</td>\n",
       "      <td>[Raining]</td>\n",
       "      <td>Car</td>\n",
       "      <td>2</td>\n",
       "      <td>7</td>\n",
       "      <td>2019</td>\n",
       "    </tr>\n",
       "    <tr>\n",
       "      <th>3</th>\n",
       "      <td>1</td>\n",
       "      <td>51.495478</td>\n",
       "      <td>3</td>\n",
       "      <td>Kensington and Chelsea</td>\n",
       "      <td>-0.202731</td>\n",
       "      <td>1</td>\n",
       "      <td>4</td>\n",
       "      <td>Dry</td>\n",
       "      <td>Single carriageway</td>\n",
       "      <td>Urban</td>\n",
       "      <td>[Fine]</td>\n",
       "      <td>Bus or coach (17 or more pass seats)</td>\n",
       "      <td>16</td>\n",
       "      <td>8</td>\n",
       "      <td>2019</td>\n",
       "    </tr>\n",
       "    <tr>\n",
       "      <th>5</th>\n",
       "      <td>1</td>\n",
       "      <td>51.497750</td>\n",
       "      <td>3</td>\n",
       "      <td>Kensington and Chelsea</td>\n",
       "      <td>-0.192556</td>\n",
       "      <td>2</td>\n",
       "      <td>3</td>\n",
       "      <td>Dry</td>\n",
       "      <td>Single carriageway</td>\n",
       "      <td>Urban</td>\n",
       "      <td>[Fine]</td>\n",
       "      <td>Car</td>\n",
       "      <td>18</td>\n",
       "      <td>9</td>\n",
       "      <td>2019</td>\n",
       "    </tr>\n",
       "    <tr>\n",
       "      <th>6</th>\n",
       "      <td>1</td>\n",
       "      <td>51.501405</td>\n",
       "      <td>3</td>\n",
       "      <td>Kensington and Chelsea</td>\n",
       "      <td>-0.161577</td>\n",
       "      <td>1</td>\n",
       "      <td>2</td>\n",
       "      <td>Dry</td>\n",
       "      <td>Dual carriageway</td>\n",
       "      <td>Urban</td>\n",
       "      <td>[Fine]</td>\n",
       "      <td>Van / Goods 3.5 tonnes mgw or under</td>\n",
       "      <td>5</td>\n",
       "      <td>9</td>\n",
       "      <td>2019</td>\n",
       "    </tr>\n",
       "    <tr>\n",
       "      <th>...</th>\n",
       "      <td>...</td>\n",
       "      <td>...</td>\n",
       "      <td>...</td>\n",
       "      <td>...</td>\n",
       "      <td>...</td>\n",
       "      <td>...</td>\n",
       "      <td>...</td>\n",
       "      <td>...</td>\n",
       "      <td>...</td>\n",
       "      <td>...</td>\n",
       "      <td>...</td>\n",
       "      <td>...</td>\n",
       "      <td>...</td>\n",
       "      <td>...</td>\n",
       "      <td>...</td>\n",
       "    </tr>\n",
       "    <tr>\n",
       "      <th>660674</th>\n",
       "      <td>0</td>\n",
       "      <td>57.374005</td>\n",
       "      <td>3</td>\n",
       "      <td>Highland</td>\n",
       "      <td>-3.467828</td>\n",
       "      <td>2</td>\n",
       "      <td>1</td>\n",
       "      <td>Dry</td>\n",
       "      <td>Single carriageway</td>\n",
       "      <td>Rural</td>\n",
       "      <td>[Fine]</td>\n",
       "      <td>Car</td>\n",
       "      <td>18</td>\n",
       "      <td>2</td>\n",
       "      <td>2022</td>\n",
       "    </tr>\n",
       "    <tr>\n",
       "      <th>660675</th>\n",
       "      <td>0</td>\n",
       "      <td>57.232273</td>\n",
       "      <td>0</td>\n",
       "      <td>Highland</td>\n",
       "      <td>-3.809281</td>\n",
       "      <td>1</td>\n",
       "      <td>1</td>\n",
       "      <td>Frost or ice</td>\n",
       "      <td>Single carriageway</td>\n",
       "      <td>Rural</td>\n",
       "      <td>[Fine]</td>\n",
       "      <td>Car</td>\n",
       "      <td>21</td>\n",
       "      <td>2</td>\n",
       "      <td>2022</td>\n",
       "    </tr>\n",
       "    <tr>\n",
       "      <th>660676</th>\n",
       "      <td>0</td>\n",
       "      <td>57.585044</td>\n",
       "      <td>3</td>\n",
       "      <td>Highland</td>\n",
       "      <td>-3.862727</td>\n",
       "      <td>1</td>\n",
       "      <td>3</td>\n",
       "      <td>Frost or ice</td>\n",
       "      <td>Single carriageway</td>\n",
       "      <td>Rural</td>\n",
       "      <td>[Fine]</td>\n",
       "      <td>Car</td>\n",
       "      <td>23</td>\n",
       "      <td>2</td>\n",
       "      <td>2022</td>\n",
       "    </tr>\n",
       "    <tr>\n",
       "      <th>660677</th>\n",
       "      <td>1</td>\n",
       "      <td>57.214898</td>\n",
       "      <td>0</td>\n",
       "      <td>Highland</td>\n",
       "      <td>-3.823997</td>\n",
       "      <td>1</td>\n",
       "      <td>2</td>\n",
       "      <td>Wet or damp</td>\n",
       "      <td>Single carriageway</td>\n",
       "      <td>Rural</td>\n",
       "      <td>[Fine]</td>\n",
       "      <td>Motorcycle over 500cc</td>\n",
       "      <td>23</td>\n",
       "      <td>2</td>\n",
       "      <td>2022</td>\n",
       "    </tr>\n",
       "    <tr>\n",
       "      <th>660678</th>\n",
       "      <td>1</td>\n",
       "      <td>57.575210</td>\n",
       "      <td>3</td>\n",
       "      <td>Highland</td>\n",
       "      <td>-3.895673</td>\n",
       "      <td>1</td>\n",
       "      <td>1</td>\n",
       "      <td>Wet or damp</td>\n",
       "      <td>Dual carriageway</td>\n",
       "      <td>Rural</td>\n",
       "      <td>[Snowing]</td>\n",
       "      <td>Car</td>\n",
       "      <td>28</td>\n",
       "      <td>2</td>\n",
       "      <td>2022</td>\n",
       "    </tr>\n",
       "  </tbody>\n",
       "</table>\n",
       "<p>638025 rows × 15 columns</p>\n",
       "</div>"
      ],
      "text/plain": [
       "        Accident_Severity   Latitude  Light_Conditions  \\\n",
       "0                       1  51.506187                 2   \n",
       "1                       1  51.495029                 3   \n",
       "3                       1  51.495478                 3   \n",
       "5                       1  51.497750                 3   \n",
       "6                       1  51.501405                 3   \n",
       "...                   ...        ...               ...   \n",
       "660674                  0  57.374005                 3   \n",
       "660675                  0  57.232273                 0   \n",
       "660676                  0  57.585044                 3   \n",
       "660677                  1  57.214898                 0   \n",
       "660678                  1  57.575210                 3   \n",
       "\n",
       "                 District_Area  Longitude  Number_of_Casualties  \\\n",
       "0       Kensington and Chelsea  -0.209082                     1   \n",
       "1       Kensington and Chelsea  -0.173647                     1   \n",
       "3       Kensington and Chelsea  -0.202731                     1   \n",
       "5       Kensington and Chelsea  -0.192556                     2   \n",
       "6       Kensington and Chelsea  -0.161577                     1   \n",
       "...                        ...        ...                   ...   \n",
       "660674                Highland  -3.467828                     2   \n",
       "660675                Highland  -3.809281                     1   \n",
       "660676                Highland  -3.862727                     1   \n",
       "660677                Highland  -3.823997                     1   \n",
       "660678                Highland  -3.895673                     1   \n",
       "\n",
       "        Number_of_Vehicles Road_Surface_Conditions           Road_Type  \\\n",
       "0                        2                     Dry  Single carriageway   \n",
       "1                        2             Wet or damp  Single carriageway   \n",
       "3                        4                     Dry  Single carriageway   \n",
       "5                        3                     Dry  Single carriageway   \n",
       "6                        2                     Dry    Dual carriageway   \n",
       "...                    ...                     ...                 ...   \n",
       "660674                   1                     Dry  Single carriageway   \n",
       "660675                   1            Frost or ice  Single carriageway   \n",
       "660676                   3            Frost or ice  Single carriageway   \n",
       "660677                   2             Wet or damp  Single carriageway   \n",
       "660678                   1             Wet or damp    Dual carriageway   \n",
       "\n",
       "       Urban_or_Rural_Area Weather_Conditions  \\\n",
       "0                    Urban             [Fine]   \n",
       "1                    Urban          [Raining]   \n",
       "3                    Urban             [Fine]   \n",
       "5                    Urban             [Fine]   \n",
       "6                    Urban             [Fine]   \n",
       "...                    ...                ...   \n",
       "660674               Rural             [Fine]   \n",
       "660675               Rural             [Fine]   \n",
       "660676               Rural             [Fine]   \n",
       "660677               Rural             [Fine]   \n",
       "660678               Rural          [Snowing]   \n",
       "\n",
       "                                Vehicle_Type  Day  Month  Year  \n",
       "0                                        Car    5      6  2019  \n",
       "1                                        Car    2      7  2019  \n",
       "3       Bus or coach (17 or more pass seats)   16      8  2019  \n",
       "5                                        Car   18      9  2019  \n",
       "6        Van / Goods 3.5 tonnes mgw or under    5      9  2019  \n",
       "...                                      ...  ...    ...   ...  \n",
       "660674                                   Car   18      2  2022  \n",
       "660675                                   Car   21      2  2022  \n",
       "660676                                   Car   23      2  2022  \n",
       "660677                 Motorcycle over 500cc   23      2  2022  \n",
       "660678                                   Car   28      2  2022  \n",
       "\n",
       "[638025 rows x 15 columns]"
      ]
     },
     "execution_count": 36,
     "metadata": {},
     "output_type": "execute_result"
    }
   ],
   "source": [
    "accident_copy"
   ]
  },
  {
   "cell_type": "markdown",
   "metadata": {
    "id": "p-p8aJn8aLXT"
   },
   "source": [
    "## Exploring Data"
   ]
  },
  {
   "cell_type": "markdown",
   "metadata": {},
   "source": [
    "In this section, we will visualize and analyze our dataset. We have transformed and cleaned up our data, and this should be enough to visualize our data. The encoding that needs to be done for the remaining categorical data will be completed after this step!"
   ]
  },
  {
   "cell_type": "markdown",
   "metadata": {},
   "source": [
    "##### Pairplot"
   ]
  },
  {
   "cell_type": "code",
   "execution_count": 37,
   "metadata": {
    "colab": {
     "base_uri": "https://localhost:8080/",
     "height": 1000
    },
    "id": "L5zLNrDBaSnH",
    "outputId": "2be9c242-3528-47f8-e704-7f9803f1ada2"
   },
   "outputs": [
    {
     "data": {
      "text/plain": [
       "<seaborn.axisgrid.PairGrid at 0x15753dfa0>"
      ]
     },
     "execution_count": 37,
     "metadata": {},
     "output_type": "execute_result"
    }
   ],
   "source": [
    "sns.pairplot(accident_copy)"
   ]
  },
  {
   "cell_type": "code",
   "execution_count": 38,
   "metadata": {
    "colab": {
     "base_uri": "https://localhost:8080/",
     "height": 647
    },
    "id": "A2iL9uffay6z",
    "outputId": "cce86e75-abdd-4e9b-f144-ed22005da38c"
   },
   "outputs": [
    {
     "data": {
      "text/plain": [
       "<Axes: >"
      ]
     },
     "execution_count": 38,
     "metadata": {},
     "output_type": "execute_result"
    },
    {
     "data": {
      "image/png": "[encoded data removed]",
      "text/plain": [
       "<Figure size 640x480 with 2 Axes>"
      ]
     },
     "metadata": {},
     "output_type": "display_data"
    }
   ],
   "source": [
    "# plot a correlation heatmap to see the correlation between features\n",
    "# seems like extremely low correlation between Accident Severity and all other columns\n",
    "# highest is Number of Casualties, at 0.088\n",
    "sns.heatmap(accident_copy.select_dtypes(include=['float64', 'int64']).corr(), vmin=-1, vmax=1, center=0, annot=True, cmap= 'coolwarm')"
   ]
  },
  {
   "cell_type": "markdown",
   "metadata": {},
   "source": [
    "Latitude and Longitude have a clear relation since together they plot the map of UK. This is why this also have a string correlation in the heatmap. Apaer from that, there seems to be correlations between accident severity and features such as number of vehicles, number of casualties, and light conditions."
   ]
  },
  {
   "cell_type": "code",
   "execution_count": 39,
   "metadata": {},
   "outputs": [
    {
     "name": "stderr",
     "output_type": "stream",
     "text": [
      "/var/folders/s2/tkp8pnns07s3twv1n0tv232c0000gn/T/ipykernel_34110/2752776326.py:1: FutureWarning: \n",
      "\n",
      "Passing `palette` without assigning `hue` is deprecated and will be removed in v0.14.0. Assign the `x` variable to `hue` and set `legend=False` for the same effect.\n",
      "\n",
      "  sns.countplot(x='Light_Conditions', data=accident, palette='pastel')\n"
     ]
    },
    {
     "ename": "NameError",
     "evalue": "name 'plt' is not defined",
     "output_type": "error",
     "traceback": [
      "\u001b[0;31m---------------------------------------------------------------------------\u001b[0m",
      "\u001b[0;31mNameError\u001b[0m                                 Traceback (most recent call last)",
      "Cell \u001b[0;32mIn[39], line 2\u001b[0m\n\u001b[1;32m      1\u001b[0m sns\u001b[38;5;241m.\u001b[39mcountplot(x\u001b[38;5;241m=\u001b[39m\u001b[38;5;124m'\u001b[39m\u001b[38;5;124mLight_Conditions\u001b[39m\u001b[38;5;124m'\u001b[39m, data\u001b[38;5;241m=\u001b[39maccident, palette\u001b[38;5;241m=\u001b[39m\u001b[38;5;124m'\u001b[39m\u001b[38;5;124mpastel\u001b[39m\u001b[38;5;124m'\u001b[39m)\n\u001b[0;32m----> 2\u001b[0m \u001b[43mplt\u001b[49m\u001b[38;5;241m.\u001b[39mxlabel(\u001b[38;5;124m'\u001b[39m\u001b[38;5;124mLight Conditions\u001b[39m\u001b[38;5;124m'\u001b[39m)\n\u001b[1;32m      3\u001b[0m plt\u001b[38;5;241m.\u001b[39mylabel(\u001b[38;5;124m'\u001b[39m\u001b[38;5;124mCount\u001b[39m\u001b[38;5;124m'\u001b[39m)\n\u001b[1;32m      4\u001b[0m plt\u001b[38;5;241m.\u001b[39mtitle(\u001b[38;5;124m'\u001b[39m\u001b[38;5;124mCount of Accidents by Light Conditions\u001b[39m\u001b[38;5;124m'\u001b[39m)\n",
      "\u001b[0;31mNameError\u001b[0m: name 'plt' is not defined"
     ]
    },
    {
     "data": {
      "image/png": "[encoded data removed]",
      "text/plain": [
       "<Figure size 640x480 with 1 Axes>"
      ]
     },
     "metadata": {},
     "output_type": "display_data"
    }
   ],
   "source": [
    "sns.countplot(x='Light_Conditions', data=accident, palette='pastel')\n",
    "plt.xlabel('Light Conditions')\n",
    "plt.ylabel('Count')\n",
    "plt.title('Count of Accidents by Light Conditions')\n",
    "plt.xticks(rotation=45)\n",
    "plt.show()"
   ]
  },
  {
   "cell_type": "markdown",
   "metadata": {},
   "source": [
    "Intuitively, we would have thought that a lot of accidents happen during the darkness. However, through this barplot, this is false. The maximum number of accidents happen in the daylight. A possible reason for this could be that drivers are more reckless and speed more during when there is daylight, but are more careful in the dark. "
   ]
  },
  {
   "cell_type": "code",
   "execution_count": null,
   "metadata": {},
   "outputs": [],
   "source": [
    "accident_copy['Date'] = pd.to_datetime(accident_copy[['Year', 'Month', 'Day']])\n",
    "\n",
    "# Group by date and count the number of accidents\n",
    "accidents_by_date = accident_copy.groupby('Date').size()\n",
    "\n",
    "# Plot the number of accidents over time\n",
    "plt.figure(figsize=(10, 6))\n",
    "accidents_by_date.plot()\n",
    "plt.xlabel('Date')\n",
    "plt.ylabel('Number of Accidents')\n",
    "plt.title('Number of Accidents Over Time')\n",
    "plt.grid(True)\n",
    "plt.show()"
   ]
  },
  {
   "cell_type": "markdown",
   "metadata": {
    "id": "H4w8zyUFZU9h"
   },
   "source": [
    "## Encoding"
   ]
  },
  {
   "cell_type": "code",
   "execution_count": null,
   "metadata": {
    "colab": {
     "base_uri": "https://localhost:8080/"
    },
    "id": "Pg0FUMW7LbU-",
    "outputId": "948389cd-e1a7-4f53-b216-35070fc41bdf"
   },
   "outputs": [],
   "source": [
    "# Use One Hot Encoder on all categorical columns that haven't been transformed into numerical data\n",
    "from sklearn.preprocessing import OneHotEncoder\n",
    "# categorical columns include Light_Conditions, District_Area,\n",
    "# Road_Surface_Conditions, Road_Type,\tUrban_or_Rural_Area,\n",
    "# Weather_Conditions, Vehicle_Type\n",
    "\n",
    "categorical = ['Road_Surface_Conditions', 'Road_Type',\t'Urban_or_Rural_Area', 'Vehicle_Type']\n",
    "\n",
    "for col in categorical:\n",
    "  ohe = OneHotEncoder()\n",
    "  categorical_ohe = ohe.fit_transform(accident_copy[[col]]).toarray()\n",
    "  df = pd.DataFrame(categorical_ohe, columns=list(ohe.categories_[0]))\n",
    "  print(df)"
   ]
  },
  {
   "cell_type": "code",
   "execution_count": null,
   "metadata": {
    "colab": {
     "base_uri": "https://localhost:8080/",
     "height": 419
    },
    "id": "-gLJodb_JtCJ",
    "outputId": "83770f95-cf00-41ba-8445-4b366bfd2c19"
   },
   "outputs": [],
   "source": [
    "# use MultiLabelBinarizer on Weather_Conditions since it can have more than one category\n",
    "from sklearn.preprocessing import MultiLabelBinarizer\n",
    "mlb = MultiLabelBinarizer()\n",
    "weather = mlb.fit_transform(accident_copy['Weather_Conditions'])\n",
    "# one for everything that was in the weather condition that day\n",
    "pd.DataFrame(weather, columns=mlb.classes_)"
   ]
  },
  {
   "cell_type": "markdown",
   "metadata": {},
   "source": [
    "# TO DO- WE NEED TO CONCAT THE ENCODED DATA WITH OUR DATAFRAME + NORMALIZE THE DATA. WHAT IS STANDARDIZATION VS NORMALIZATION? CAN WE DO IMPUTATION? ALSO WHEREVER WE DID LABEL ENCODING SHOULD WE CALL IT THAT AND SHIFT IT TO THE END OF THE NOTEBOOK UNDER THE \"ENCODING\" SECTION?"
   ]
  },
  {
   "cell_type": "markdown",
   "metadata": {},
   "source": [
    "### Normalization"
   ]
  },
  {
   "cell_type": "code",
   "execution_count": 85,
   "metadata": {},
   "outputs": [
    {
     "data": {
      "text/html": [
       "<div>\n",
       "<style scoped>\n",
       "    .dataframe tbody tr th:only-of-type {\n",
       "        vertical-align: middle;\n",
       "    }\n",
       "\n",
       "    .dataframe tbody tr th {\n",
       "        vertical-align: top;\n",
       "    }\n",
       "\n",
       "    .dataframe thead th {\n",
       "        text-align: right;\n",
       "    }\n",
       "</style>\n",
       "<table border=\"1\" class=\"dataframe\">\n",
       "  <thead>\n",
       "    <tr style=\"text-align: right;\">\n",
       "      <th></th>\n",
       "      <th>Accident_Severity</th>\n",
       "      <th>Latitude</th>\n",
       "      <th>Light_Conditions</th>\n",
       "      <th>District_Area</th>\n",
       "      <th>Longitude</th>\n",
       "      <th>Number_of_Casualties</th>\n",
       "      <th>Number_of_Vehicles</th>\n",
       "      <th>Road_Surface_Conditions</th>\n",
       "      <th>Road_Type</th>\n",
       "      <th>Urban_or_Rural_Area</th>\n",
       "      <th>Weather_Conditions</th>\n",
       "      <th>Vehicle_Type</th>\n",
       "      <th>Day</th>\n",
       "      <th>Month</th>\n",
       "      <th>Year</th>\n",
       "      <th>Date</th>\n",
       "    </tr>\n",
       "  </thead>\n",
       "  <tbody>\n",
       "    <tr>\n",
       "      <th>0</th>\n",
       "      <td>1</td>\n",
       "      <td>51.506187</td>\n",
       "      <td>2</td>\n",
       "      <td>Kensington and Chelsea</td>\n",
       "      <td>-0.209082</td>\n",
       "      <td>1</td>\n",
       "      <td>2</td>\n",
       "      <td>Dry</td>\n",
       "      <td>Single carriageway</td>\n",
       "      <td>Urban</td>\n",
       "      <td>[Fine]</td>\n",
       "      <td>Car</td>\n",
       "      <td>5</td>\n",
       "      <td>6</td>\n",
       "      <td>2019</td>\n",
       "      <td>2019-06-05</td>\n",
       "    </tr>\n",
       "    <tr>\n",
       "      <th>1</th>\n",
       "      <td>1</td>\n",
       "      <td>51.495029</td>\n",
       "      <td>3</td>\n",
       "      <td>Kensington and Chelsea</td>\n",
       "      <td>-0.173647</td>\n",
       "      <td>1</td>\n",
       "      <td>2</td>\n",
       "      <td>Wet or damp</td>\n",
       "      <td>Single carriageway</td>\n",
       "      <td>Urban</td>\n",
       "      <td>[Raining]</td>\n",
       "      <td>Car</td>\n",
       "      <td>2</td>\n",
       "      <td>7</td>\n",
       "      <td>2019</td>\n",
       "      <td>2019-07-02</td>\n",
       "    </tr>\n",
       "    <tr>\n",
       "      <th>3</th>\n",
       "      <td>1</td>\n",
       "      <td>51.495478</td>\n",
       "      <td>3</td>\n",
       "      <td>Kensington and Chelsea</td>\n",
       "      <td>-0.202731</td>\n",
       "      <td>1</td>\n",
       "      <td>4</td>\n",
       "      <td>Dry</td>\n",
       "      <td>Single carriageway</td>\n",
       "      <td>Urban</td>\n",
       "      <td>[Fine]</td>\n",
       "      <td>Bus or coach (17 or more pass seats)</td>\n",
       "      <td>16</td>\n",
       "      <td>8</td>\n",
       "      <td>2019</td>\n",
       "      <td>2019-08-16</td>\n",
       "    </tr>\n",
       "    <tr>\n",
       "      <th>5</th>\n",
       "      <td>1</td>\n",
       "      <td>51.497750</td>\n",
       "      <td>3</td>\n",
       "      <td>Kensington and Chelsea</td>\n",
       "      <td>-0.192556</td>\n",
       "      <td>2</td>\n",
       "      <td>3</td>\n",
       "      <td>Dry</td>\n",
       "      <td>Single carriageway</td>\n",
       "      <td>Urban</td>\n",
       "      <td>[Fine]</td>\n",
       "      <td>Car</td>\n",
       "      <td>18</td>\n",
       "      <td>9</td>\n",
       "      <td>2019</td>\n",
       "      <td>2019-09-18</td>\n",
       "    </tr>\n",
       "    <tr>\n",
       "      <th>6</th>\n",
       "      <td>1</td>\n",
       "      <td>51.501405</td>\n",
       "      <td>3</td>\n",
       "      <td>Kensington and Chelsea</td>\n",
       "      <td>-0.161577</td>\n",
       "      <td>1</td>\n",
       "      <td>2</td>\n",
       "      <td>Dry</td>\n",
       "      <td>Dual carriageway</td>\n",
       "      <td>Urban</td>\n",
       "      <td>[Fine]</td>\n",
       "      <td>Van / Goods 3.5 tonnes mgw or under</td>\n",
       "      <td>5</td>\n",
       "      <td>9</td>\n",
       "      <td>2019</td>\n",
       "      <td>2019-09-05</td>\n",
       "    </tr>\n",
       "    <tr>\n",
       "      <th>...</th>\n",
       "      <td>...</td>\n",
       "      <td>...</td>\n",
       "      <td>...</td>\n",
       "      <td>...</td>\n",
       "      <td>...</td>\n",
       "      <td>...</td>\n",
       "      <td>...</td>\n",
       "      <td>...</td>\n",
       "      <td>...</td>\n",
       "      <td>...</td>\n",
       "      <td>...</td>\n",
       "      <td>...</td>\n",
       "      <td>...</td>\n",
       "      <td>...</td>\n",
       "      <td>...</td>\n",
       "      <td>...</td>\n",
       "    </tr>\n",
       "    <tr>\n",
       "      <th>660674</th>\n",
       "      <td>0</td>\n",
       "      <td>57.374005</td>\n",
       "      <td>3</td>\n",
       "      <td>Highland</td>\n",
       "      <td>-3.467828</td>\n",
       "      <td>2</td>\n",
       "      <td>1</td>\n",
       "      <td>Dry</td>\n",
       "      <td>Single carriageway</td>\n",
       "      <td>Rural</td>\n",
       "      <td>[Fine]</td>\n",
       "      <td>Car</td>\n",
       "      <td>18</td>\n",
       "      <td>2</td>\n",
       "      <td>2022</td>\n",
       "      <td>2022-02-18</td>\n",
       "    </tr>\n",
       "    <tr>\n",
       "      <th>660675</th>\n",
       "      <td>0</td>\n",
       "      <td>57.232273</td>\n",
       "      <td>0</td>\n",
       "      <td>Highland</td>\n",
       "      <td>-3.809281</td>\n",
       "      <td>1</td>\n",
       "      <td>1</td>\n",
       "      <td>Frost or ice</td>\n",
       "      <td>Single carriageway</td>\n",
       "      <td>Rural</td>\n",
       "      <td>[Fine]</td>\n",
       "      <td>Car</td>\n",
       "      <td>21</td>\n",
       "      <td>2</td>\n",
       "      <td>2022</td>\n",
       "      <td>2022-02-21</td>\n",
       "    </tr>\n",
       "    <tr>\n",
       "      <th>660676</th>\n",
       "      <td>0</td>\n",
       "      <td>57.585044</td>\n",
       "      <td>3</td>\n",
       "      <td>Highland</td>\n",
       "      <td>-3.862727</td>\n",
       "      <td>1</td>\n",
       "      <td>3</td>\n",
       "      <td>Frost or ice</td>\n",
       "      <td>Single carriageway</td>\n",
       "      <td>Rural</td>\n",
       "      <td>[Fine]</td>\n",
       "      <td>Car</td>\n",
       "      <td>23</td>\n",
       "      <td>2</td>\n",
       "      <td>2022</td>\n",
       "      <td>2022-02-23</td>\n",
       "    </tr>\n",
       "    <tr>\n",
       "      <th>660677</th>\n",
       "      <td>1</td>\n",
       "      <td>57.214898</td>\n",
       "      <td>0</td>\n",
       "      <td>Highland</td>\n",
       "      <td>-3.823997</td>\n",
       "      <td>1</td>\n",
       "      <td>2</td>\n",
       "      <td>Wet or damp</td>\n",
       "      <td>Single carriageway</td>\n",
       "      <td>Rural</td>\n",
       "      <td>[Fine]</td>\n",
       "      <td>Motorcycle over 500cc</td>\n",
       "      <td>23</td>\n",
       "      <td>2</td>\n",
       "      <td>2022</td>\n",
       "      <td>2022-02-23</td>\n",
       "    </tr>\n",
       "    <tr>\n",
       "      <th>660678</th>\n",
       "      <td>1</td>\n",
       "      <td>57.575210</td>\n",
       "      <td>3</td>\n",
       "      <td>Highland</td>\n",
       "      <td>-3.895673</td>\n",
       "      <td>1</td>\n",
       "      <td>1</td>\n",
       "      <td>Wet or damp</td>\n",
       "      <td>Dual carriageway</td>\n",
       "      <td>Rural</td>\n",
       "      <td>[Snowing]</td>\n",
       "      <td>Car</td>\n",
       "      <td>28</td>\n",
       "      <td>2</td>\n",
       "      <td>2022</td>\n",
       "      <td>2022-02-28</td>\n",
       "    </tr>\n",
       "  </tbody>\n",
       "</table>\n",
       "<p>638025 rows × 16 columns</p>\n",
       "</div>"
      ],
      "text/plain": [
       "        Accident_Severity   Latitude  Light_Conditions  \\\n",
       "0                       1  51.506187                 2   \n",
       "1                       1  51.495029                 3   \n",
       "3                       1  51.495478                 3   \n",
       "5                       1  51.497750                 3   \n",
       "6                       1  51.501405                 3   \n",
       "...                   ...        ...               ...   \n",
       "660674                  0  57.374005                 3   \n",
       "660675                  0  57.232273                 0   \n",
       "660676                  0  57.585044                 3   \n",
       "660677                  1  57.214898                 0   \n",
       "660678                  1  57.575210                 3   \n",
       "\n",
       "                 District_Area  Longitude  Number_of_Casualties  \\\n",
       "0       Kensington and Chelsea  -0.209082                     1   \n",
       "1       Kensington and Chelsea  -0.173647                     1   \n",
       "3       Kensington and Chelsea  -0.202731                     1   \n",
       "5       Kensington and Chelsea  -0.192556                     2   \n",
       "6       Kensington and Chelsea  -0.161577                     1   \n",
       "...                        ...        ...                   ...   \n",
       "660674                Highland  -3.467828                     2   \n",
       "660675                Highland  -3.809281                     1   \n",
       "660676                Highland  -3.862727                     1   \n",
       "660677                Highland  -3.823997                     1   \n",
       "660678                Highland  -3.895673                     1   \n",
       "\n",
       "        Number_of_Vehicles Road_Surface_Conditions           Road_Type  \\\n",
       "0                        2                     Dry  Single carriageway   \n",
       "1                        2             Wet or damp  Single carriageway   \n",
       "3                        4                     Dry  Single carriageway   \n",
       "5                        3                     Dry  Single carriageway   \n",
       "6                        2                     Dry    Dual carriageway   \n",
       "...                    ...                     ...                 ...   \n",
       "660674                   1                     Dry  Single carriageway   \n",
       "660675                   1            Frost or ice  Single carriageway   \n",
       "660676                   3            Frost or ice  Single carriageway   \n",
       "660677                   2             Wet or damp  Single carriageway   \n",
       "660678                   1             Wet or damp    Dual carriageway   \n",
       "\n",
       "       Urban_or_Rural_Area Weather_Conditions  \\\n",
       "0                    Urban             [Fine]   \n",
       "1                    Urban          [Raining]   \n",
       "3                    Urban             [Fine]   \n",
       "5                    Urban             [Fine]   \n",
       "6                    Urban             [Fine]   \n",
       "...                    ...                ...   \n",
       "660674               Rural             [Fine]   \n",
       "660675               Rural             [Fine]   \n",
       "660676               Rural             [Fine]   \n",
       "660677               Rural             [Fine]   \n",
       "660678               Rural          [Snowing]   \n",
       "\n",
       "                                Vehicle_Type  Day  Month  Year       Date  \n",
       "0                                        Car    5      6  2019 2019-06-05  \n",
       "1                                        Car    2      7  2019 2019-07-02  \n",
       "3       Bus or coach (17 or more pass seats)   16      8  2019 2019-08-16  \n",
       "5                                        Car   18      9  2019 2019-09-18  \n",
       "6        Van / Goods 3.5 tonnes mgw or under    5      9  2019 2019-09-05  \n",
       "...                                      ...  ...    ...   ...        ...  \n",
       "660674                                   Car   18      2  2022 2022-02-18  \n",
       "660675                                   Car   21      2  2022 2022-02-21  \n",
       "660676                                   Car   23      2  2022 2022-02-23  \n",
       "660677                 Motorcycle over 500cc   23      2  2022 2022-02-23  \n",
       "660678                                   Car   28      2  2022 2022-02-28  \n",
       "\n",
       "[638025 rows x 16 columns]"
      ]
     },
     "execution_count": 85,
     "metadata": {},
     "output_type": "execute_result"
    }
   ],
   "source": [
    "accident_copy"
   ]
  },
  {
   "cell_type": "code",
   "execution_count": 46,
   "metadata": {
    "scrolled": true
   },
   "outputs": [
    {
     "name": "stdout",
     "output_type": "stream",
     "text": [
      "Collecting scikit-learn\n",
      "  Downloading scikit_learn-1.3.2-cp38-cp38-macosx_12_0_arm64.whl.metadata (11 kB)\n",
      "Requirement already satisfied: numpy<2.0,>=1.17.3 in /Library/Frameworks/Python.framework/Versions/3.8/lib/python3.8/site-packages (from scikit-learn) (1.24.4)\n",
      "Collecting scipy>=1.5.0 (from scikit-learn)\n",
      "  Downloading scipy-1.10.1-cp38-cp38-macosx_12_0_arm64.whl (28.8 MB)\n",
      "\u001b[2K     \u001b[90m━━━━━━━━━━━━━━━━━━━━━━━━━━━━━━━━━━━━━━━━\u001b[0m \u001b[32m28.8/28.8 MB\u001b[0m \u001b[31m15.2 MB/s\u001b[0m eta \u001b[36m0:00:00\u001b[0m00:01\u001b[0m00:01\u001b[0m\n",
      "\u001b[?25hCollecting joblib>=1.1.1 (from scikit-learn)\n",
      "  Downloading joblib-1.3.2-py3-none-any.whl.metadata (5.4 kB)\n",
      "Collecting threadpoolctl>=2.0.0 (from scikit-learn)\n",
      "  Downloading threadpoolctl-3.2.0-py3-none-any.whl.metadata (10.0 kB)\n",
      "Downloading scikit_learn-1.3.2-cp38-cp38-macosx_12_0_arm64.whl (9.4 MB)\n",
      "\u001b[2K   \u001b[90m━━━━━━━━━━━━━━━━━━━━━━━━━━━━━━━━━━━━━━━━\u001b[0m \u001b[32m9.4/9.4 MB\u001b[0m \u001b[31m15.8 MB/s\u001b[0m eta \u001b[36m0:00:00\u001b[0m00:01\u001b[0m00:01\u001b[0m\n",
      "\u001b[?25hDownloading joblib-1.3.2-py3-none-any.whl (302 kB)\n",
      "\u001b[2K   \u001b[90m━━━━━━━━━━━━━━━━━━━━━━━━━━━━━━━━━━━━━━━━\u001b[0m \u001b[32m302.2/302.2 kB\u001b[0m \u001b[31m9.3 MB/s\u001b[0m eta \u001b[36m0:00:00\u001b[0m\n",
      "\u001b[?25hDownloading threadpoolctl-3.2.0-py3-none-any.whl (15 kB)\n",
      "Installing collected packages: threadpoolctl, scipy, joblib, scikit-learn\n",
      "Successfully installed joblib-1.3.2 scikit-learn-1.3.2 scipy-1.10.1 threadpoolctl-3.2.0\n",
      "Note: you may need to restart the kernel to use updated packages.\n"
     ]
    }
   ],
   "source": []
  },
  {
   "cell_type": "code",
   "execution_count": 48,
   "metadata": {},
   "outputs": [],
   "source": [
    "from sklearn.preprocessing import MinMaxScaler"
   ]
  },
  {
   "cell_type": "code",
   "execution_count": 50,
   "metadata": {},
   "outputs": [],
   "source": [
    "scaler = MinMaxScaler()"
   ]
  },
  {
   "cell_type": "code",
   "execution_count": 51,
   "metadata": {
    "scrolled": false
   },
   "outputs": [
    {
     "data": {
      "text/html": [
       "<div>\n",
       "<style scoped>\n",
       "    .dataframe tbody tr th:only-of-type {\n",
       "        vertical-align: middle;\n",
       "    }\n",
       "\n",
       "    .dataframe tbody tr th {\n",
       "        vertical-align: top;\n",
       "    }\n",
       "\n",
       "    .dataframe thead th {\n",
       "        text-align: right;\n",
       "    }\n",
       "</style>\n",
       "<table border=\"1\" class=\"dataframe\">\n",
       "  <thead>\n",
       "    <tr style=\"text-align: right;\">\n",
       "      <th></th>\n",
       "      <th>Accident_Severity</th>\n",
       "      <th>Latitude</th>\n",
       "      <th>Light_Conditions</th>\n",
       "      <th>District_Area</th>\n",
       "      <th>Longitude</th>\n",
       "      <th>Number_of_Casualties</th>\n",
       "      <th>Number_of_Vehicles</th>\n",
       "      <th>Road_Surface_Conditions</th>\n",
       "      <th>Road_Type</th>\n",
       "      <th>Urban_or_Rural_Area</th>\n",
       "      <th>Weather_Conditions</th>\n",
       "      <th>Vehicle_Type</th>\n",
       "      <th>Day</th>\n",
       "      <th>Month</th>\n",
       "      <th>Year</th>\n",
       "    </tr>\n",
       "  </thead>\n",
       "  <tbody>\n",
       "    <tr>\n",
       "      <th>0</th>\n",
       "      <td>1</td>\n",
       "      <td>51.506187</td>\n",
       "      <td>2</td>\n",
       "      <td>Kensington and Chelsea</td>\n",
       "      <td>-0.209082</td>\n",
       "      <td>1</td>\n",
       "      <td>2</td>\n",
       "      <td>Dry</td>\n",
       "      <td>Single carriageway</td>\n",
       "      <td>Urban</td>\n",
       "      <td>[Fine]</td>\n",
       "      <td>Car</td>\n",
       "      <td>5</td>\n",
       "      <td>6</td>\n",
       "      <td>2019</td>\n",
       "    </tr>\n",
       "    <tr>\n",
       "      <th>1</th>\n",
       "      <td>1</td>\n",
       "      <td>51.495029</td>\n",
       "      <td>3</td>\n",
       "      <td>Kensington and Chelsea</td>\n",
       "      <td>-0.173647</td>\n",
       "      <td>1</td>\n",
       "      <td>2</td>\n",
       "      <td>Wet or damp</td>\n",
       "      <td>Single carriageway</td>\n",
       "      <td>Urban</td>\n",
       "      <td>[Raining]</td>\n",
       "      <td>Car</td>\n",
       "      <td>2</td>\n",
       "      <td>7</td>\n",
       "      <td>2019</td>\n",
       "    </tr>\n",
       "    <tr>\n",
       "      <th>3</th>\n",
       "      <td>1</td>\n",
       "      <td>51.495478</td>\n",
       "      <td>3</td>\n",
       "      <td>Kensington and Chelsea</td>\n",
       "      <td>-0.202731</td>\n",
       "      <td>1</td>\n",
       "      <td>4</td>\n",
       "      <td>Dry</td>\n",
       "      <td>Single carriageway</td>\n",
       "      <td>Urban</td>\n",
       "      <td>[Fine]</td>\n",
       "      <td>Bus or coach (17 or more pass seats)</td>\n",
       "      <td>16</td>\n",
       "      <td>8</td>\n",
       "      <td>2019</td>\n",
       "    </tr>\n",
       "    <tr>\n",
       "      <th>5</th>\n",
       "      <td>1</td>\n",
       "      <td>51.497750</td>\n",
       "      <td>3</td>\n",
       "      <td>Kensington and Chelsea</td>\n",
       "      <td>-0.192556</td>\n",
       "      <td>2</td>\n",
       "      <td>3</td>\n",
       "      <td>Dry</td>\n",
       "      <td>Single carriageway</td>\n",
       "      <td>Urban</td>\n",
       "      <td>[Fine]</td>\n",
       "      <td>Car</td>\n",
       "      <td>18</td>\n",
       "      <td>9</td>\n",
       "      <td>2019</td>\n",
       "    </tr>\n",
       "    <tr>\n",
       "      <th>6</th>\n",
       "      <td>1</td>\n",
       "      <td>51.501405</td>\n",
       "      <td>3</td>\n",
       "      <td>Kensington and Chelsea</td>\n",
       "      <td>-0.161577</td>\n",
       "      <td>1</td>\n",
       "      <td>2</td>\n",
       "      <td>Dry</td>\n",
       "      <td>Dual carriageway</td>\n",
       "      <td>Urban</td>\n",
       "      <td>[Fine]</td>\n",
       "      <td>Van / Goods 3.5 tonnes mgw or under</td>\n",
       "      <td>5</td>\n",
       "      <td>9</td>\n",
       "      <td>2019</td>\n",
       "    </tr>\n",
       "  </tbody>\n",
       "</table>\n",
       "</div>"
      ],
      "text/plain": [
       "   Accident_Severity   Latitude  Light_Conditions           District_Area  \\\n",
       "0                  1  51.506187                 2  Kensington and Chelsea   \n",
       "1                  1  51.495029                 3  Kensington and Chelsea   \n",
       "3                  1  51.495478                 3  Kensington and Chelsea   \n",
       "5                  1  51.497750                 3  Kensington and Chelsea   \n",
       "6                  1  51.501405                 3  Kensington and Chelsea   \n",
       "\n",
       "   Longitude  Number_of_Casualties  Number_of_Vehicles  \\\n",
       "0  -0.209082                     1                   2   \n",
       "1  -0.173647                     1                   2   \n",
       "3  -0.202731                     1                   4   \n",
       "5  -0.192556                     2                   3   \n",
       "6  -0.161577                     1                   2   \n",
       "\n",
       "  Road_Surface_Conditions           Road_Type Urban_or_Rural_Area  \\\n",
       "0                     Dry  Single carriageway               Urban   \n",
       "1             Wet or damp  Single carriageway               Urban   \n",
       "3                     Dry  Single carriageway               Urban   \n",
       "5                     Dry  Single carriageway               Urban   \n",
       "6                     Dry    Dual carriageway               Urban   \n",
       "\n",
       "  Weather_Conditions                          Vehicle_Type  Day  Month  Year  \n",
       "0             [Fine]                                   Car    5      6  2019  \n",
       "1          [Raining]                                   Car    2      7  2019  \n",
       "3             [Fine]  Bus or coach (17 or more pass seats)   16      8  2019  \n",
       "5             [Fine]                                   Car   18      9  2019  \n",
       "6             [Fine]   Van / Goods 3.5 tonnes mgw or under    5      9  2019  "
      ]
     },
     "execution_count": 51,
     "metadata": {},
     "output_type": "execute_result"
    }
   ],
   "source": [
    "accident_copy.head()"
   ]
  },
  {
   "cell_type": "code",
   "execution_count": 57,
   "metadata": {},
   "outputs": [],
   "source": [
    "longitude = accident_copy['Longitude'].values.reshape(-1, 1)\n",
    "latitude = accident_copy['Latitude'].values.reshape(-1, 1)"
   ]
  },
  {
   "cell_type": "code",
   "execution_count": 63,
   "metadata": {},
   "outputs": [],
   "source": [
    "normalised_longitude= scaler.fit_transform(longitude)\n",
    "normalised_latitude= scaler.fit_transform(latitude)"
   ]
  },
  {
   "cell_type": "code",
   "execution_count": 64,
   "metadata": {},
   "outputs": [],
   "source": [
    "accident_copy['Longitude'] = normalised_longitude\n",
    "accident_copy['Latitude'] = normalised_latitudeb"
   ]
  },
  {
   "cell_type": "code",
   "execution_count": 65,
   "metadata": {},
   "outputs": [
    {
     "data": {
      "text/html": [
       "<div>\n",
       "<style scoped>\n",
       "    .dataframe tbody tr th:only-of-type {\n",
       "        vertical-align: middle;\n",
       "    }\n",
       "\n",
       "    .dataframe tbody tr th {\n",
       "        vertical-align: top;\n",
       "    }\n",
       "\n",
       "    .dataframe thead th {\n",
       "        text-align: right;\n",
       "    }\n",
       "</style>\n",
       "<table border=\"1\" class=\"dataframe\">\n",
       "  <thead>\n",
       "    <tr style=\"text-align: right;\">\n",
       "      <th></th>\n",
       "      <th>Accident_Severity</th>\n",
       "      <th>Latitude</th>\n",
       "      <th>Light_Conditions</th>\n",
       "      <th>District_Area</th>\n",
       "      <th>Longitude</th>\n",
       "      <th>Number_of_Casualties</th>\n",
       "      <th>Number_of_Vehicles</th>\n",
       "      <th>Road_Surface_Conditions</th>\n",
       "      <th>Road_Type</th>\n",
       "      <th>Urban_or_Rural_Area</th>\n",
       "      <th>Weather_Conditions</th>\n",
       "      <th>Vehicle_Type</th>\n",
       "      <th>Day</th>\n",
       "      <th>Month</th>\n",
       "      <th>Year</th>\n",
       "    </tr>\n",
       "  </thead>\n",
       "  <tbody>\n",
       "    <tr>\n",
       "      <th>0</th>\n",
       "      <td>1</td>\n",
       "      <td>0.146799</td>\n",
       "      <td>2</td>\n",
       "      <td>Kensington and Chelsea</td>\n",
       "      <td>0.787557</td>\n",
       "      <td>1</td>\n",
       "      <td>2</td>\n",
       "      <td>Dry</td>\n",
       "      <td>Single carriageway</td>\n",
       "      <td>Urban</td>\n",
       "      <td>[Fine]</td>\n",
       "      <td>Car</td>\n",
       "      <td>5</td>\n",
       "      <td>6</td>\n",
       "      <td>2019</td>\n",
       "    </tr>\n",
       "    <tr>\n",
       "      <th>1</th>\n",
       "      <td>1</td>\n",
       "      <td>0.145770</td>\n",
       "      <td>3</td>\n",
       "      <td>Kensington and Chelsea</td>\n",
       "      <td>0.791377</td>\n",
       "      <td>1</td>\n",
       "      <td>2</td>\n",
       "      <td>Wet or damp</td>\n",
       "      <td>Single carriageway</td>\n",
       "      <td>Urban</td>\n",
       "      <td>[Raining]</td>\n",
       "      <td>Car</td>\n",
       "      <td>2</td>\n",
       "      <td>7</td>\n",
       "      <td>2019</td>\n",
       "    </tr>\n",
       "    <tr>\n",
       "      <th>3</th>\n",
       "      <td>1</td>\n",
       "      <td>0.145811</td>\n",
       "      <td>3</td>\n",
       "      <td>Kensington and Chelsea</td>\n",
       "      <td>0.788242</td>\n",
       "      <td>1</td>\n",
       "      <td>4</td>\n",
       "      <td>Dry</td>\n",
       "      <td>Single carriageway</td>\n",
       "      <td>Urban</td>\n",
       "      <td>[Fine]</td>\n",
       "      <td>Bus or coach (17 or more pass seats)</td>\n",
       "      <td>16</td>\n",
       "      <td>8</td>\n",
       "      <td>2019</td>\n",
       "    </tr>\n",
       "    <tr>\n",
       "      <th>5</th>\n",
       "      <td>1</td>\n",
       "      <td>0.146021</td>\n",
       "      <td>3</td>\n",
       "      <td>Kensington and Chelsea</td>\n",
       "      <td>0.789339</td>\n",
       "      <td>2</td>\n",
       "      <td>3</td>\n",
       "      <td>Dry</td>\n",
       "      <td>Single carriageway</td>\n",
       "      <td>Urban</td>\n",
       "      <td>[Fine]</td>\n",
       "      <td>Car</td>\n",
       "      <td>18</td>\n",
       "      <td>9</td>\n",
       "      <td>2019</td>\n",
       "    </tr>\n",
       "    <tr>\n",
       "      <th>6</th>\n",
       "      <td>1</td>\n",
       "      <td>0.146358</td>\n",
       "      <td>3</td>\n",
       "      <td>Kensington and Chelsea</td>\n",
       "      <td>0.792677</td>\n",
       "      <td>1</td>\n",
       "      <td>2</td>\n",
       "      <td>Dry</td>\n",
       "      <td>Dual carriageway</td>\n",
       "      <td>Urban</td>\n",
       "      <td>[Fine]</td>\n",
       "      <td>Van / Goods 3.5 tonnes mgw or under</td>\n",
       "      <td>5</td>\n",
       "      <td>9</td>\n",
       "      <td>2019</td>\n",
       "    </tr>\n",
       "    <tr>\n",
       "      <th>...</th>\n",
       "      <td>...</td>\n",
       "      <td>...</td>\n",
       "      <td>...</td>\n",
       "      <td>...</td>\n",
       "      <td>...</td>\n",
       "      <td>...</td>\n",
       "      <td>...</td>\n",
       "      <td>...</td>\n",
       "      <td>...</td>\n",
       "      <td>...</td>\n",
       "      <td>...</td>\n",
       "      <td>...</td>\n",
       "      <td>...</td>\n",
       "      <td>...</td>\n",
       "      <td>...</td>\n",
       "    </tr>\n",
       "    <tr>\n",
       "      <th>660674</th>\n",
       "      <td>0</td>\n",
       "      <td>0.687955</td>\n",
       "      <td>3</td>\n",
       "      <td>Highland</td>\n",
       "      <td>0.436333</td>\n",
       "      <td>2</td>\n",
       "      <td>1</td>\n",
       "      <td>Dry</td>\n",
       "      <td>Single carriageway</td>\n",
       "      <td>Rural</td>\n",
       "      <td>[Fine]</td>\n",
       "      <td>Car</td>\n",
       "      <td>18</td>\n",
       "      <td>2</td>\n",
       "      <td>2022</td>\n",
       "    </tr>\n",
       "    <tr>\n",
       "      <th>660675</th>\n",
       "      <td>0</td>\n",
       "      <td>0.674884</td>\n",
       "      <td>0</td>\n",
       "      <td>Highland</td>\n",
       "      <td>0.399531</td>\n",
       "      <td>1</td>\n",
       "      <td>1</td>\n",
       "      <td>Frost or ice</td>\n",
       "      <td>Single carriageway</td>\n",
       "      <td>Rural</td>\n",
       "      <td>[Fine]</td>\n",
       "      <td>Car</td>\n",
       "      <td>21</td>\n",
       "      <td>2</td>\n",
       "      <td>2022</td>\n",
       "    </tr>\n",
       "    <tr>\n",
       "      <th>660676</th>\n",
       "      <td>0</td>\n",
       "      <td>0.707418</td>\n",
       "      <td>3</td>\n",
       "      <td>Highland</td>\n",
       "      <td>0.393771</td>\n",
       "      <td>1</td>\n",
       "      <td>3</td>\n",
       "      <td>Frost or ice</td>\n",
       "      <td>Single carriageway</td>\n",
       "      <td>Rural</td>\n",
       "      <td>[Fine]</td>\n",
       "      <td>Car</td>\n",
       "      <td>23</td>\n",
       "      <td>2</td>\n",
       "      <td>2022</td>\n",
       "    </tr>\n",
       "    <tr>\n",
       "      <th>660677</th>\n",
       "      <td>1</td>\n",
       "      <td>0.673281</td>\n",
       "      <td>0</td>\n",
       "      <td>Highland</td>\n",
       "      <td>0.397945</td>\n",
       "      <td>1</td>\n",
       "      <td>2</td>\n",
       "      <td>Wet or damp</td>\n",
       "      <td>Single carriageway</td>\n",
       "      <td>Rural</td>\n",
       "      <td>[Fine]</td>\n",
       "      <td>Motorcycle over 500cc</td>\n",
       "      <td>23</td>\n",
       "      <td>2</td>\n",
       "      <td>2022</td>\n",
       "    </tr>\n",
       "    <tr>\n",
       "      <th>660678</th>\n",
       "      <td>1</td>\n",
       "      <td>0.706511</td>\n",
       "      <td>3</td>\n",
       "      <td>Highland</td>\n",
       "      <td>0.390220</td>\n",
       "      <td>1</td>\n",
       "      <td>1</td>\n",
       "      <td>Wet or damp</td>\n",
       "      <td>Dual carriageway</td>\n",
       "      <td>Rural</td>\n",
       "      <td>[Snowing]</td>\n",
       "      <td>Car</td>\n",
       "      <td>28</td>\n",
       "      <td>2</td>\n",
       "      <td>2022</td>\n",
       "    </tr>\n",
       "  </tbody>\n",
       "</table>\n",
       "<p>638025 rows × 15 columns</p>\n",
       "</div>"
      ],
      "text/plain": [
       "        Accident_Severity  Latitude  Light_Conditions           District_Area  \\\n",
       "0                       1  0.146799                 2  Kensington and Chelsea   \n",
       "1                       1  0.145770                 3  Kensington and Chelsea   \n",
       "3                       1  0.145811                 3  Kensington and Chelsea   \n",
       "5                       1  0.146021                 3  Kensington and Chelsea   \n",
       "6                       1  0.146358                 3  Kensington and Chelsea   \n",
       "...                   ...       ...               ...                     ...   \n",
       "660674                  0  0.687955                 3                Highland   \n",
       "660675                  0  0.674884                 0                Highland   \n",
       "660676                  0  0.707418                 3                Highland   \n",
       "660677                  1  0.673281                 0                Highland   \n",
       "660678                  1  0.706511                 3                Highland   \n",
       "\n",
       "        Longitude  Number_of_Casualties  Number_of_Vehicles  \\\n",
       "0        0.787557                     1                   2   \n",
       "1        0.791377                     1                   2   \n",
       "3        0.788242                     1                   4   \n",
       "5        0.789339                     2                   3   \n",
       "6        0.792677                     1                   2   \n",
       "...           ...                   ...                 ...   \n",
       "660674   0.436333                     2                   1   \n",
       "660675   0.399531                     1                   1   \n",
       "660676   0.393771                     1                   3   \n",
       "660677   0.397945                     1                   2   \n",
       "660678   0.390220                     1                   1   \n",
       "\n",
       "       Road_Surface_Conditions           Road_Type Urban_or_Rural_Area  \\\n",
       "0                          Dry  Single carriageway               Urban   \n",
       "1                  Wet or damp  Single carriageway               Urban   \n",
       "3                          Dry  Single carriageway               Urban   \n",
       "5                          Dry  Single carriageway               Urban   \n",
       "6                          Dry    Dual carriageway               Urban   \n",
       "...                        ...                 ...                 ...   \n",
       "660674                     Dry  Single carriageway               Rural   \n",
       "660675            Frost or ice  Single carriageway               Rural   \n",
       "660676            Frost or ice  Single carriageway               Rural   \n",
       "660677             Wet or damp  Single carriageway               Rural   \n",
       "660678             Wet or damp    Dual carriageway               Rural   \n",
       "\n",
       "       Weather_Conditions                          Vehicle_Type  Day  Month  \\\n",
       "0                  [Fine]                                   Car    5      6   \n",
       "1               [Raining]                                   Car    2      7   \n",
       "3                  [Fine]  Bus or coach (17 or more pass seats)   16      8   \n",
       "5                  [Fine]                                   Car   18      9   \n",
       "6                  [Fine]   Van / Goods 3.5 tonnes mgw or under    5      9   \n",
       "...                   ...                                   ...  ...    ...   \n",
       "660674             [Fine]                                   Car   18      2   \n",
       "660675             [Fine]                                   Car   21      2   \n",
       "660676             [Fine]                                   Car   23      2   \n",
       "660677             [Fine]                 Motorcycle over 500cc   23      2   \n",
       "660678          [Snowing]                                   Car   28      2   \n",
       "\n",
       "        Year  \n",
       "0       2019  \n",
       "1       2019  \n",
       "3       2019  \n",
       "5       2019  \n",
       "6       2019  \n",
       "...      ...  \n",
       "660674  2022  \n",
       "660675  2022  \n",
       "660676  2022  \n",
       "660677  2022  \n",
       "660678  2022  \n",
       "\n",
       "[638025 rows x 15 columns]"
      ]
     },
     "execution_count": 65,
     "metadata": {},
     "output_type": "execute_result"
    }
   ],
   "source": [
    "accident_copy"
   ]
  },
  {
   "cell_type": "markdown",
   "metadata": {},
   "source": [
    "### Conclusion\n",
    "\n",
    "Initially, we had a look at all our data and analyzed the overall distribution and patterns. Following that, we looked at the individual columns and cleaned up some data while converting other columns to numbers. Once this was done, we were able to plot data visualization graphs before the final step of encoding all the data using One Hot Encoding or MultiLabelBinarizer as needed to input into the machine learning. Normalizing is an important step too since it helps improve the training of our model and its overall accuracy.\n",
    "\n",
    "Doing all of these steps through this milestone helped us become one with the data and understand different patterns. We were able to see correlations between our input and target variables and came to a lot of interesting conclusions through this milestone. Our data should now be prepared to train on models and we should be able to smoothly proceeed onto the next step of this project.\n",
    "\n",
    "# Resources used: do we need to include stuff like this? "
   ]
  },
  {
   "cell_type": "markdown",
   "metadata": {},
   "source": []
  }
 ],
 "metadata": {
  "colab": {
   "authorship_tag": "ABX9TyOJKHTIj/G5ZaUmYqloMMGO",
   "provenance": []
  },
  "kernelspec": {
   "display_name": "Python 3 (ipykernel)",
   "language": "python",
   "name": "python3"
  },
  "language_info": {
   "codemirror_mode": {
    "name": "ipython",
    "version": 3
   },
   "file_extension": ".py",
   "mimetype": "text/x-python",
   "name": "python",
   "nbconvert_exporter": "python",
   "pygments_lexer": "ipython3",
   "version": "3.8.10"
  }
 },
 "nbformat": 4,
 "nbformat_minor": 1
}
